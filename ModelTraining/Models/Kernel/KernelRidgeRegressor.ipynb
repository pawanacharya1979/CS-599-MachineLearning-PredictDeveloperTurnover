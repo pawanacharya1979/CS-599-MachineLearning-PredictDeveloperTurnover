{
 "cells": [
  {
   "cell_type": "code",
   "execution_count": 1,
   "metadata": {},
   "outputs": [],
   "source": [
    "import pandas as pd\n",
    "import numpy as np\n",
    "\n",
    "from joblib import Parallel, delayed\n",
    "from tqdm import tqdm\n",
    "from sklearn.model_selection import train_test_split\n",
    "from sklearn.kernel_ridge import KernelRidge\n",
    "from sklearn.metrics import mean_squared_error, mean_absolute_error, r2_score"
   ]
  },
  {
   "cell_type": "code",
   "execution_count": 2,
   "metadata": {},
   "outputs": [],
   "source": [
    "df = pd.read_parquet('../../../metrics.parquet')"
   ]
  },
  {
   "cell_type": "code",
   "execution_count": 3,
   "metadata": {},
   "outputs": [],
   "source": [
    "df, _ = train_test_split(df, train_size=20000, stratify=df['time_to_stop_activity'], random_state=11)"
   ]
  },
  {
   "cell_type": "code",
   "execution_count": 4,
   "metadata": {},
   "outputs": [],
   "source": [
    "df = df.drop(\n",
    "    columns = [\n",
    "        \"user\", \n",
    "        'project', \n",
    "        'current_month', \n",
    "        'turnover_num',\n",
    "        'turnover',\n",
    "        'betweenness_centrality_12_intercept',\n",
    "        'betweenness_centrality_12_slope', \n",
    "        'betweenness_centrality_12_std_dev',\n",
    "        'betweenness_centrality_3_intercept', \n",
    "        'betweenness_centrality_3_slope',\n",
    "        'betweenness_centrality_3_std_dev',\n",
    "        'betweenness_centrality_6_intercept', \n",
    "        'betweenness_centrality_6_slope',\n",
    "        'betweenness_centrality_6_std_dev',\n",
    "        'betweenness_centrality_9_intercept', \n",
    "        'betweenness_centrality_9_slope',\n",
    "        'betweenness_centrality_9_std_dev'\n",
    "    ], axis = 1\n",
    ")"
   ]
  },
  {
   "cell_type": "code",
   "execution_count": 5,
   "metadata": {},
   "outputs": [],
   "source": [
    "df = df.astype(np.float64)\n",
    "df = df.replace([np.inf], np.nan)\n",
    "\n",
    "for column in df.columns:\n",
    "    max_value = df[column].max(skipna=True) \n",
    "    df[column] = df[column].fillna(max_value)\n",
    "\n",
    "df = df.replace([-np.inf], np.nan)\n",
    "\n",
    "for column in df.columns:\n",
    "    max_value = df[column].min(skipna=True) \n",
    "    df[column] = df[column].fillna(max_value)"
   ]
  },
  {
   "cell_type": "code",
   "execution_count": 6,
   "metadata": {},
   "outputs": [],
   "source": [
    "for column in df.columns:\n",
    "    max_value = df[column].max(skipna=True) \n",
    "    df[column] = df[column].fillna(max_value)"
   ]
  },
  {
   "cell_type": "code",
   "execution_count": 7,
   "metadata": {},
   "outputs": [],
   "source": [
    "def train_evaluate_krr(alpha, kernel, gamma, degree, coef0, X_train, Y_train, X_test, Y_test):\n",
    "    mse = None\n",
    "    mae = None\n",
    "    r2 = None\n",
    "\n",
    "    try:\n",
    "        krr = KernelRidge(alpha=alpha, kernel=kernel, gamma=gamma, degree=degree, coef0=coef0)\n",
    "        krr.fit(X_train, Y_train)\n",
    "        y_pred = krr.predict(X_test)\n",
    "        \n",
    "        mse = mean_squared_error(Y_test, y_pred)\n",
    "        mae = mean_absolute_error(Y_test, y_pred)\n",
    "        r2 = r2_score(Y_test, y_pred)\n",
    "        \n",
    "        print(f'KRR - Alpha: {alpha}, Kernel: {kernel}, Gamma: {gamma}, Degree: {degree}, Coef0: {coef0} Finalized - MSE: {mse}, MAE: {mae}, R2: {r2}')\n",
    "\n",
    "        return {\n",
    "            'alpha': alpha,\n",
    "            'kernel': kernel,\n",
    "            'gamma': gamma,\n",
    "            'degree': degree,\n",
    "            'coef0': coef0,\n",
    "            'mean_squared_error': mse,\n",
    "            'mean_absolute_error': mae,\n",
    "            'r2_score': r2\n",
    "        }\n",
    "    \n",
    "    except Exception as e:\n",
    "        print(f'KRR - Alpha: {alpha}, Kernel: {kernel}, Gamma: {gamma}, Degree: {degree}, Coef0: {coef0} Error: {e}')\n",
    "    \n",
    "        return {\n",
    "            'alpha': alpha,\n",
    "            'kernel': kernel,\n",
    "            'gamma': gamma,\n",
    "            'degree': degree,\n",
    "            'coef0': coef0,\n",
    "            'mean_squared_error': mse,\n",
    "            'mean_absolute_error': mae,\n",
    "            'r2_score': r2\n",
    "        }"
   ]
  },
  {
   "cell_type": "code",
   "execution_count": 8,
   "metadata": {},
   "outputs": [],
   "source": [
    "param_combinations = [\n",
    "    (alpha, kernel, gamma, degree, coef0)\n",
    "    for alpha in [0.1, 1.0, 10.0]\n",
    "    for kernel in ['linear', 'poly', 'rbf']\n",
    "    for gamma in [None, 0.1, 1.0]\n",
    "    for degree in [3, 4]\n",
    "    for coef0 in [0.0, 1.0]\n",
    "]"
   ]
  },
  {
   "cell_type": "code",
   "execution_count": 9,
   "metadata": {},
   "outputs": [],
   "source": [
    "x = df.drop(columns = ['time_to_stop_activity'], axis = 1).values\n",
    "y = df['time_to_stop_activity'].values"
   ]
  },
  {
   "cell_type": "code",
   "execution_count": 10,
   "metadata": {},
   "outputs": [],
   "source": [
    "X_train, X_test, Y_train, Y_test = train_test_split(\n",
    "    x, y, \n",
    "    test_size = 0.3, \n",
    "    random_state=11\n",
    ")"
   ]
  },
  {
   "cell_type": "code",
   "execution_count": 11,
   "metadata": {},
   "outputs": [
    {
     "name": "stdout",
     "output_type": "stream",
     "text": [
      "KRR - Alpha: 0.1, Kernel: linear, Gamma: None, Degree: 3, Coef0: 1.0 Finalized - MSE: 15.677854154541732, MAE: 2.260151804815975, R2: 0.09189754119810234\n",
      "KRR - Alpha: 0.1, Kernel: linear, Gamma: None, Degree: 4, Coef0: 1.0 Finalized - MSE: 15.677854154541732, MAE: 2.260151804815975, R2: 0.09189754119810234\n",
      "KRR - Alpha: 0.1, Kernel: linear, Gamma: None, Degree: 3, Coef0: 0.0 Finalized - MSE: 15.677854154541732, MAE: 2.260151804815975, R2: 0.09189754119810234\n",
      "KRR - Alpha: 0.1, Kernel: linear, Gamma: None, Degree: 4, Coef0: 0.0 Finalized - MSE: 15.677854154541732, MAE: 2.260151804815975, R2: 0.09189754119810234\n",
      "KRR - Alpha: 0.1, Kernel: linear, Gamma: 0.1, Degree: 3, Coef0: 1.0 Finalized - MSE: 15.677854154541732, MAE: 2.260151804815975, R2: 0.09189754119810234\n",
      "KRR - Alpha: 0.1, Kernel: linear, Gamma: 0.1, Degree: 3, Coef0: 0.0 Finalized - MSE: 15.677854154541732, MAE: 2.260151804815975, R2: 0.09189754119810234\n",
      "KRR - Alpha: 0.1, Kernel: linear, Gamma: 0.1, Degree: 4, Coef0: 0.0 Finalized - MSE: 15.677854154541732, MAE: 2.260151804815975, R2: 0.09189754119810234\n",
      "KRR - Alpha: 0.1, Kernel: linear, Gamma: 0.1, Degree: 4, Coef0: 1.0 Finalized - MSE: 15.677854154541732, MAE: 2.260151804815975, R2: 0.09189754119810234\n",
      "KRR - Alpha: 0.1, Kernel: linear, Gamma: 1.0, Degree: 3, Coef0: 0.0 Finalized - MSE: 15.677854154541732, MAE: 2.260151804815975, R2: 0.09189754119810234\n",
      "KRR - Alpha: 0.1, Kernel: linear, Gamma: 1.0, Degree: 3, Coef0: 1.0 Finalized - MSE: 15.677854154541732, MAE: 2.260151804815975, R2: 0.09189754119810234\n",
      "KRR - Alpha: 0.1, Kernel: linear, Gamma: 1.0, Degree: 4, Coef0: 0.0 Finalized - MSE: 15.677854154541732, MAE: 2.260151804815975, R2: 0.09189754119810234\n",
      "KRR - Alpha: 0.1, Kernel: linear, Gamma: 1.0, Degree: 4, Coef0: 1.0 Finalized - MSE: 15.677854154541732, MAE: 2.260151804815975, R2: 0.09189754119810234\n"
     ]
    },
    {
     "name": "stderr",
     "output_type": "stream",
     "text": [
      "/Users/pro32/Library/Python/3.9/lib/python/site-packages/sklearn/linear_model/_ridge.py:253: LinAlgWarning: Ill-conditioned matrix (rcond=5.52027e-19): result may not be accurate.\n",
      "  dual_coef = linalg.solve(K, y, assume_a=\"pos\", overwrite_a=False)\n",
      "/Users/pro32/Library/Python/3.9/lib/python/site-packages/sklearn/linear_model/_ridge.py:253: LinAlgWarning: Ill-conditioned matrix (rcond=2.45773e-19): result may not be accurate.\n",
      "  dual_coef = linalg.solve(K, y, assume_a=\"pos\", overwrite_a=False)\n"
     ]
    },
    {
     "name": "stdout",
     "output_type": "stream",
     "text": [
      "KRR - Alpha: 0.1, Kernel: poly, Gamma: None, Degree: 3, Coef0: 0.0 Finalized - MSE: 336788.237438509, MAE: 24.382124785500658, R2: -19506.658605490265\n",
      "KRR - Alpha: 0.1, Kernel: poly, Gamma: None, Degree: 3, Coef0: 1.0 Finalized - MSE: 422511.6045896028, MAE: 19.23693438793082, R2: -24471.98100990458\n",
      "KRR - Alpha: 0.1, Kernel: poly, Gamma: None, Degree: 4, Coef0: 0.0 Finalized - MSE: 306168525.4668431, MAE: 383.6607770713029, R2: -17734083.527355306\n",
      "KRR - Alpha: 0.1, Kernel: poly, Gamma: None, Degree: 4, Coef0: 1.0 Finalized - MSE: 178324381.33130744, MAE: 337.18655832838544, R2: -10329015.174983097\n"
     ]
    },
    {
     "name": "stderr",
     "output_type": "stream",
     "text": [
      "/Users/pro32/Library/Python/3.9/lib/python/site-packages/sklearn/linear_model/_ridge.py:255: UserWarning: Singular matrix in solving dual problem. Using least-squares solution instead.\n",
      "  warnings.warn(\n",
      "/Users/pro32/Library/Python/3.9/lib/python/site-packages/sklearn/linear_model/_ridge.py:253: LinAlgWarning: Ill-conditioned matrix (rcond=4.53538e-18): result may not be accurate.\n",
      "  dual_coef = linalg.solve(K, y, assume_a=\"pos\", overwrite_a=False)\n",
      "/Users/pro32/Library/Python/3.9/lib/python/site-packages/sklearn/linear_model/_ridge.py:253: LinAlgWarning: Ill-conditioned matrix (rcond=3.61875e-18): result may not be accurate.\n",
      "  dual_coef = linalg.solve(K, y, assume_a=\"pos\", overwrite_a=False)\n",
      "/Users/pro32/Library/Python/3.9/lib/python/site-packages/sklearn/linear_model/_ridge.py:255: UserWarning: Singular matrix in solving dual problem. Using least-squares solution instead.\n",
      "  warnings.warn(\n"
     ]
    },
    {
     "name": "stdout",
     "output_type": "stream",
     "text": [
      "KRR - Alpha: 0.1, Kernel: poly, Gamma: 0.1, Degree: 3, Coef0: 1.0 Finalized - MSE: 15408313.554628303, MAE: 115.72356202633648, R2: -892488.9598517517\n",
      "KRR - Alpha: 0.1, Kernel: poly, Gamma: 0.1, Degree: 3, Coef0: 0.0 Finalized - MSE: 66341357.41303501, MAE: 241.0086969674647, R2: -3842664.532743219\n"
     ]
    },
    {
     "name": "stderr",
     "output_type": "stream",
     "text": [
      "/Users/pro32/Library/Python/3.9/lib/python/site-packages/sklearn/linear_model/_ridge.py:255: UserWarning: Singular matrix in solving dual problem. Using least-squares solution instead.\n",
      "  warnings.warn(\n",
      "/Users/pro32/Library/Python/3.9/lib/python/site-packages/sklearn/linear_model/_ridge.py:255: UserWarning: Singular matrix in solving dual problem. Using least-squares solution instead.\n",
      "  warnings.warn(\n"
     ]
    },
    {
     "ename": "KeyboardInterrupt",
     "evalue": "",
     "output_type": "error",
     "traceback": [
      "\u001b[0;31m---------------------------------------------------------------------------\u001b[0m",
      "\u001b[0;31mKeyboardInterrupt\u001b[0m                         Traceback (most recent call last)",
      "Cell \u001b[0;32mIn[11], line 1\u001b[0m\n\u001b[0;32m----> 1\u001b[0m results \u001b[38;5;241m=\u001b[39m \u001b[43mParallel\u001b[49m\u001b[43m(\u001b[49m\u001b[43mn_jobs\u001b[49m\u001b[38;5;241;43m=\u001b[39;49m\u001b[38;5;241;43m4\u001b[39;49m\u001b[43m)\u001b[49m\u001b[43m(\u001b[49m\n\u001b[1;32m      2\u001b[0m \u001b[43m    \u001b[49m\u001b[43mdelayed\u001b[49m\u001b[43m(\u001b[49m\u001b[43mtrain_evaluate_krr\u001b[49m\u001b[43m)\u001b[49m\u001b[43m(\u001b[49m\u001b[43malpha\u001b[49m\u001b[43m,\u001b[49m\u001b[43m \u001b[49m\u001b[43mkernel\u001b[49m\u001b[43m,\u001b[49m\u001b[43m \u001b[49m\u001b[43mgamma\u001b[49m\u001b[43m,\u001b[49m\u001b[43m \u001b[49m\u001b[43mdegree\u001b[49m\u001b[43m,\u001b[49m\u001b[43m \u001b[49m\u001b[43mcoef0\u001b[49m\u001b[43m,\u001b[49m\u001b[43m \u001b[49m\u001b[43mX_train\u001b[49m\u001b[43m,\u001b[49m\u001b[43m \u001b[49m\u001b[43mY_train\u001b[49m\u001b[43m,\u001b[49m\u001b[43m \u001b[49m\u001b[43mX_test\u001b[49m\u001b[43m,\u001b[49m\u001b[43m \u001b[49m\u001b[43mY_test\u001b[49m\u001b[43m)\u001b[49m\n\u001b[1;32m      3\u001b[0m \u001b[43m    \u001b[49m\u001b[38;5;28;43;01mfor\u001b[39;49;00m\u001b[43m \u001b[49m\u001b[43malpha\u001b[49m\u001b[43m,\u001b[49m\u001b[43m \u001b[49m\u001b[43mkernel\u001b[49m\u001b[43m,\u001b[49m\u001b[43m \u001b[49m\u001b[43mgamma\u001b[49m\u001b[43m,\u001b[49m\u001b[43m \u001b[49m\u001b[43mdegree\u001b[49m\u001b[43m,\u001b[49m\u001b[43m \u001b[49m\u001b[43mcoef0\u001b[49m\u001b[43m \u001b[49m\u001b[38;5;129;43;01min\u001b[39;49;00m\u001b[43m \u001b[49m\u001b[43mparam_combinations\u001b[49m\n\u001b[1;32m      4\u001b[0m \u001b[43m)\u001b[49m\n",
      "File \u001b[0;32m~/Library/Python/3.9/lib/python/site-packages/joblib/parallel.py:2007\u001b[0m, in \u001b[0;36mParallel.__call__\u001b[0;34m(self, iterable)\u001b[0m\n\u001b[1;32m   2001\u001b[0m \u001b[38;5;66;03m# The first item from the output is blank, but it makes the interpreter\u001b[39;00m\n\u001b[1;32m   2002\u001b[0m \u001b[38;5;66;03m# progress until it enters the Try/Except block of the generator and\u001b[39;00m\n\u001b[1;32m   2003\u001b[0m \u001b[38;5;66;03m# reaches the first `yield` statement. This starts the asynchronous\u001b[39;00m\n\u001b[1;32m   2004\u001b[0m \u001b[38;5;66;03m# dispatch of the tasks to the workers.\u001b[39;00m\n\u001b[1;32m   2005\u001b[0m \u001b[38;5;28mnext\u001b[39m(output)\n\u001b[0;32m-> 2007\u001b[0m \u001b[38;5;28;01mreturn\u001b[39;00m output \u001b[38;5;28;01mif\u001b[39;00m \u001b[38;5;28mself\u001b[39m\u001b[38;5;241m.\u001b[39mreturn_generator \u001b[38;5;28;01melse\u001b[39;00m \u001b[38;5;28;43mlist\u001b[39;49m\u001b[43m(\u001b[49m\u001b[43moutput\u001b[49m\u001b[43m)\u001b[49m\n",
      "File \u001b[0;32m~/Library/Python/3.9/lib/python/site-packages/joblib/parallel.py:1650\u001b[0m, in \u001b[0;36mParallel._get_outputs\u001b[0;34m(self, iterator, pre_dispatch)\u001b[0m\n\u001b[1;32m   1647\u001b[0m     \u001b[38;5;28;01myield\u001b[39;00m\n\u001b[1;32m   1649\u001b[0m     \u001b[38;5;28;01mwith\u001b[39;00m \u001b[38;5;28mself\u001b[39m\u001b[38;5;241m.\u001b[39m_backend\u001b[38;5;241m.\u001b[39mretrieval_context():\n\u001b[0;32m-> 1650\u001b[0m         \u001b[38;5;28;01myield from\u001b[39;00m \u001b[38;5;28mself\u001b[39m\u001b[38;5;241m.\u001b[39m_retrieve()\n\u001b[1;32m   1652\u001b[0m \u001b[38;5;28;01mexcept\u001b[39;00m \u001b[38;5;167;01mGeneratorExit\u001b[39;00m:\n\u001b[1;32m   1653\u001b[0m     \u001b[38;5;66;03m# The generator has been garbage collected before being fully\u001b[39;00m\n\u001b[1;32m   1654\u001b[0m     \u001b[38;5;66;03m# consumed. This aborts the remaining tasks if possible and warn\u001b[39;00m\n\u001b[1;32m   1655\u001b[0m     \u001b[38;5;66;03m# the user if necessary.\u001b[39;00m\n\u001b[1;32m   1656\u001b[0m     \u001b[38;5;28mself\u001b[39m\u001b[38;5;241m.\u001b[39m_exception \u001b[38;5;241m=\u001b[39m \u001b[38;5;28;01mTrue\u001b[39;00m\n",
      "File \u001b[0;32m~/Library/Python/3.9/lib/python/site-packages/joblib/parallel.py:1762\u001b[0m, in \u001b[0;36mParallel._retrieve\u001b[0;34m(self)\u001b[0m\n\u001b[1;32m   1757\u001b[0m \u001b[38;5;66;03m# If the next job is not ready for retrieval yet, we just wait for\u001b[39;00m\n\u001b[1;32m   1758\u001b[0m \u001b[38;5;66;03m# async callbacks to progress.\u001b[39;00m\n\u001b[1;32m   1759\u001b[0m \u001b[38;5;28;01mif\u001b[39;00m ((\u001b[38;5;28mlen\u001b[39m(\u001b[38;5;28mself\u001b[39m\u001b[38;5;241m.\u001b[39m_jobs) \u001b[38;5;241m==\u001b[39m \u001b[38;5;241m0\u001b[39m) \u001b[38;5;129;01mor\u001b[39;00m\n\u001b[1;32m   1760\u001b[0m     (\u001b[38;5;28mself\u001b[39m\u001b[38;5;241m.\u001b[39m_jobs[\u001b[38;5;241m0\u001b[39m]\u001b[38;5;241m.\u001b[39mget_status(\n\u001b[1;32m   1761\u001b[0m         timeout\u001b[38;5;241m=\u001b[39m\u001b[38;5;28mself\u001b[39m\u001b[38;5;241m.\u001b[39mtimeout) \u001b[38;5;241m==\u001b[39m TASK_PENDING)):\n\u001b[0;32m-> 1762\u001b[0m     \u001b[43mtime\u001b[49m\u001b[38;5;241;43m.\u001b[39;49m\u001b[43msleep\u001b[49m\u001b[43m(\u001b[49m\u001b[38;5;241;43m0.01\u001b[39;49m\u001b[43m)\u001b[49m\n\u001b[1;32m   1763\u001b[0m     \u001b[38;5;28;01mcontinue\u001b[39;00m\n\u001b[1;32m   1765\u001b[0m \u001b[38;5;66;03m# We need to be careful: the job list can be filling up as\u001b[39;00m\n\u001b[1;32m   1766\u001b[0m \u001b[38;5;66;03m# we empty it and Python list are not thread-safe by\u001b[39;00m\n\u001b[1;32m   1767\u001b[0m \u001b[38;5;66;03m# default hence the use of the lock\u001b[39;00m\n",
      "\u001b[0;31mKeyboardInterrupt\u001b[0m: "
     ]
    }
   ],
   "source": [
    "results = Parallel(n_jobs=4)(\n",
    "    delayed(train_evaluate_krr)(alpha, kernel, gamma, degree, coef0, X_train, Y_train, X_test, Y_test)\n",
    "    for alpha, kernel, gamma, degree, coef0 in param_combinations\n",
    ")"
   ]
  },
  {
   "cell_type": "code",
   "execution_count": null,
   "metadata": {},
   "outputs": [],
   "source": [
    "benchmark_df = pd.DataFrame(results)"
   ]
  },
  {
   "cell_type": "code",
   "execution_count": null,
   "metadata": {},
   "outputs": [],
   "source": [
    "benchmark_df.to_excel('KernelRidgeRegressorBenchmark.xlsx')"
   ]
  }
 ],
 "metadata": {
  "kernelspec": {
   "display_name": "Python 3",
   "language": "python",
   "name": "python3"
  },
  "language_info": {
   "codemirror_mode": {
    "name": "ipython",
    "version": 3
   },
   "file_extension": ".py",
   "mimetype": "text/x-python",
   "name": "python",
   "nbconvert_exporter": "python",
   "pygments_lexer": "ipython3",
   "version": "3.9.6"
  }
 },
 "nbformat": 4,
 "nbformat_minor": 2
}
