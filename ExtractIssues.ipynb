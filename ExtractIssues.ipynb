{
 "cells": [
  {
   "cell_type": "code",
   "execution_count": 27,
   "metadata": {},
   "outputs": [],
   "source": [
    "import pandas as pd\n",
    "import re\n",
    "import os\n",
    "from dotenv import load_dotenv\n",
    "from github import Github\n",
    "from tqdm import tqdm"
   ]
  },
  {
   "cell_type": "code",
   "execution_count": null,
   "metadata": {},
   "outputs": [],
   "source": [
    "load_dotenv(dotenv_path='secrets.env')"
   ]
  },
  {
   "cell_type": "code",
   "execution_count": 28,
   "metadata": {},
   "outputs": [],
   "source": [
    "org_name = \"angular\"\n",
    "repo_name = \"angular.js\""
   ]
  },
  {
   "cell_type": "code",
   "execution_count": 29,
   "metadata": {},
   "outputs": [],
   "source": [
    "g = Github(os.getenv('API_KEY_1'))\n",
    "org = g.get_organization(org_name)\n",
    "repo = org.get_repo(repo_name)"
   ]
  },
  {
   "cell_type": "code",
   "execution_count": 30,
   "metadata": {},
   "outputs": [
    {
     "data": {
      "text/plain": [
       "(4998, 5000)"
      ]
     },
     "execution_count": 30,
     "metadata": {},
     "output_type": "execute_result"
    }
   ],
   "source": [
    "g.rate_limiting"
   ]
  },
  {
   "cell_type": "markdown",
   "metadata": {},
   "source": [
    "### Issues Extraction"
   ]
  },
  {
   "cell_type": "code",
   "execution_count": 31,
   "metadata": {},
   "outputs": [],
   "source": [
    "issues = repo.get_issues(state = \"all\")\n",
    "extract_issues_list = []\n",
    "extract_issues_comments_list = []"
   ]
  },
  {
   "cell_type": "code",
   "execution_count": 32,
   "metadata": {},
   "outputs": [
    {
     "name": "stderr",
     "output_type": "stream",
     "text": [
      "Processing issues:   6%|▌         | 1000/17032 [07:51<2:59:55,  1.49issue/s]"
     ]
    }
   ],
   "source": [
    "for issue in tqdm(issues, desc=\"Processing issues\", unit=\"issue\", total=issues.totalCount):\n",
    "    if not issue.pull_request:\n",
    "        extract_issues_list.append(\n",
    "            {\n",
    "                \"id\" : issue.id,\n",
    "                \"title\" : issue.title,\n",
    "                \"created_at\" : issue.created_at,\n",
    "                \"closed_at\" : issue.closed_at,\n",
    "                \"created_by\" : issue.user.url,\n",
    "                \"closed_by\" : issue.closed_by,\n",
    "                \"labels\" : issue.labels,\n",
    "            }\n",
    "        )\n",
    "\n",
    "        for comment in issue.get_comments():\n",
    "            extract_issues_comments_list.append({\n",
    "                \"issue_id\" : issue.id,\n",
    "                \"id\" : comment.id,\n",
    "                \"created_by\" : comment.user,\n",
    "                \"created_at\" : comment.created_at,\n",
    "                \"body\" : comment.body\n",
    "            })"
   ]
  },
  {
   "cell_type": "code",
   "execution_count": 16,
   "metadata": {},
   "outputs": [],
   "source": [
    "issues_df = pd.DataFrame(extract_issues_list)\n",
    "issues_df = issues_df.astype(str)\n",
    "\n",
    "issues_comments_df = pd.DataFrame(extract_issues_comments_list)\n",
    "issues_comments_df = issues_comments_df.astype(str)"
   ]
  },
  {
   "cell_type": "code",
   "execution_count": 17,
   "metadata": {},
   "outputs": [],
   "source": [
    "def clean_text_columns(df):\n",
    "    for col in df.select_dtypes(include=['object', 'string']):\n",
    "        df[col] = df[col].apply(lambda x: re.sub(r'[^\\x20-\\x7E]', '', str(x)) if pd.notnull(x) else x)\n",
    "    return df"
   ]
  },
  {
   "cell_type": "code",
   "execution_count": 18,
   "metadata": {},
   "outputs": [],
   "source": [
    "issues_df = clean_text_columns(issues_df)\n",
    "issues_comments_df = clean_text_columns(issues_comments_df)"
   ]
  },
  {
   "cell_type": "code",
   "execution_count": 25,
   "metadata": {},
   "outputs": [],
   "source": [
    "issues_df.to_excel(\n",
    "    f'Files/{org_name.lower()}_{repo_name.lower()}_issues.xlsx', \n",
    "    engine = 'openpyxl'\n",
    ")\n",
    "\n",
    "issues_comments_df.to_excel(\n",
    "    f'Files/{org_name.lower()}_{repo_name.lower()}_issues_comments.xlsx', \n",
    "    engine = 'openpyxl'\n",
    ")"
   ]
  },
  {
   "cell_type": "code",
   "execution_count": null,
   "metadata": {},
   "outputs": [],
   "source": []
  }
 ],
 "metadata": {
  "kernelspec": {
   "display_name": "Python 3",
   "language": "python",
   "name": "python3"
  },
  "language_info": {
   "codemirror_mode": {
    "name": "ipython",
    "version": 3
   },
   "file_extension": ".py",
   "mimetype": "text/x-python",
   "name": "python",
   "nbconvert_exporter": "python",
   "pygments_lexer": "ipython3",
   "version": "3.9.6"
  }
 },
 "nbformat": 4,
 "nbformat_minor": 2
}
