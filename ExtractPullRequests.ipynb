{
 "cells": [
  {
   "cell_type": "code",
   "execution_count": 24,
   "metadata": {},
   "outputs": [],
   "source": [
    "import pandas as pd\n",
    "import re\n",
    "import os\n",
    "from dotenv import load_dotenv\n",
    "from github import Github\n",
    "from tqdm import tqdm"
   ]
  },
  {
   "cell_type": "code",
   "execution_count": null,
   "metadata": {},
   "outputs": [],
   "source": [
    "load_dotenv(dotenv_path='secrets.env')"
   ]
  },
  {
   "cell_type": "code",
   "execution_count": 25,
   "metadata": {},
   "outputs": [],
   "source": [
    "org_name = \"angular\"\n",
    "repo_name = \"angular.js\""
   ]
  },
  {
   "cell_type": "code",
   "execution_count": 26,
   "metadata": {},
   "outputs": [],
   "source": [
    "g = Github(os.getenv('API_KEY_2'))\n",
    "org = g.get_organization(org_name)\n",
    "repo = org.get_repo(repo_name)"
   ]
  },
  {
   "cell_type": "code",
   "execution_count": 27,
   "metadata": {},
   "outputs": [
    {
     "data": {
      "text/plain": [
       "(4998, 5000)"
      ]
     },
     "execution_count": 27,
     "metadata": {},
     "output_type": "execute_result"
    }
   ],
   "source": [
    "g.rate_limiting"
   ]
  },
  {
   "cell_type": "markdown",
   "metadata": {},
   "source": [
    "### Pull Request Extraction"
   ]
  },
  {
   "cell_type": "code",
   "execution_count": 28,
   "metadata": {},
   "outputs": [],
   "source": [
    "pulls = repo.get_pulls(state = \"all\")\n",
    "extract_pulls_list = []\n",
    "extract_pulls_comments_list = []"
   ]
  },
  {
   "cell_type": "code",
   "execution_count": 29,
   "metadata": {},
   "outputs": [
    {
     "name": "stderr",
     "output_type": "stream",
     "text": [
      "Processing Pull Requests:  11%|█         | 842/7995 [16:31<2:34:23,  1.30s/PR]"
     ]
    }
   ],
   "source": [
    "for pull in tqdm(pulls, desc=\"Processing Pull Requests\", unit=\"PR\", total=pulls.totalCount):\n",
    "    extract_pulls_list.append(\n",
    "        {\n",
    "            \"id\" : pull.id,\n",
    "            \"title\" : pull.title,\n",
    "            \"created_at\" : pull.created_at,\n",
    "            \"closed_at\" : pull.closed_at,\n",
    "            \"created_by\" : pull.user.url,\n",
    "            \"labels\" : pull.labels,\n",
    "            \"state\" : pull.state,\n",
    "            \"number_commits\" : pull.commits,\n",
    "            \"number_files_modified\" : pull.changed_files,\n",
    "            \"mergeable_status\" : pull.mergeable_state\n",
    "        }\n",
    "    )\n",
    "\n",
    "    for comment in pull.get_comments():\n",
    "        extract_pulls_comments_list.append(\n",
    "            {\n",
    "                \"pull_request_id\" : pull.id,\n",
    "                \"id\" : comment.id,\n",
    "                \"created_by\" : comment.user,\n",
    "                \"created_at\" : comment.created_at,\n",
    "                \"body\" : comment.body\n",
    "            }\n",
    "        )\n"
   ]
  },
  {
   "cell_type": "code",
   "execution_count": 17,
   "metadata": {},
   "outputs": [],
   "source": [
    "pull_df = pd.DataFrame(extract_pulls_list)\n",
    "pull_df = pull_df.astype(str)\n",
    "\n",
    "pull_comments_df = pd.DataFrame(extract_pulls_comments_list)\n",
    "pull_comments_df = pull_comments_df.astype(str)"
   ]
  },
  {
   "cell_type": "code",
   "execution_count": 18,
   "metadata": {},
   "outputs": [],
   "source": [
    "def clean_text_columns(df):\n",
    "    for col in df.select_dtypes(include=['object', 'string']):\n",
    "        df[col] = df[col].apply(lambda x: re.sub(r'[^\\x20-\\x7E]', '', str(x)) if pd.notnull(x) else x)\n",
    "    return df"
   ]
  },
  {
   "cell_type": "code",
   "execution_count": 19,
   "metadata": {},
   "outputs": [],
   "source": [
    "pull_df = clean_text_columns(pull_df)\n",
    "pull_comments_df = clean_text_columns(pull_comments_df)"
   ]
  },
  {
   "cell_type": "code",
   "execution_count": 23,
   "metadata": {},
   "outputs": [],
   "source": [
    "pull_df.to_excel(\n",
    "    f'Files/{org_name.lower()}_{repo_name.lower()}_pull_requests.xlsx', \n",
    "    engine = 'openpyxl'\n",
    ")\n",
    "\n",
    "pull_comments_df.to_excel(\n",
    "    f'Files/{org_name.lower()}_{repo_name.lower()}_pull_request_comments.xlsx', \n",
    "    engine = 'openpyxl'\n",
    ")"
   ]
  }
 ],
 "metadata": {
  "kernelspec": {
   "display_name": "Python 3",
   "language": "python",
   "name": "python3"
  },
  "language_info": {
   "codemirror_mode": {
    "name": "ipython",
    "version": 3
   },
   "file_extension": ".py",
   "mimetype": "text/x-python",
   "name": "python",
   "nbconvert_exporter": "python",
   "pygments_lexer": "ipython3",
   "version": "3.9.6"
  }
 },
 "nbformat": 4,
 "nbformat_minor": 2
}
