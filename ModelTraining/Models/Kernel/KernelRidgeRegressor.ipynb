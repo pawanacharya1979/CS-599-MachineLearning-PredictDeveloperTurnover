{
 "cells": [
  {
   "cell_type": "code",
   "execution_count": 1,
   "metadata": {},
   "outputs": [],
   "source": [
    "import pandas as pd\n",
    "import numpy as np\n",
    "\n",
    "from joblib import Parallel, delayed\n",
    "from tqdm import tqdm\n",
    "from sklearn.model_selection import train_test_split\n",
    "from sklearn.kernel_ridge import KernelRidge\n",
    "from sklearn.metrics import mean_squared_error, mean_absolute_error, r2_score"
   ]
  },
  {
   "cell_type": "code",
   "execution_count": 2,
   "metadata": {},
   "outputs": [],
   "source": [
    "df = pd.read_parquet('../../../metrics.parquet')"
   ]
  },
  {
   "cell_type": "code",
   "execution_count": 3,
   "metadata": {},
   "outputs": [],
   "source": [
    "df, _ = train_test_split(df, train_size=20000, stratify=df['time_to_stop_activity'], random_state=11)"
   ]
  },
  {
   "cell_type": "code",
   "execution_count": 4,
   "metadata": {},
   "outputs": [],
   "source": [
    "df = df.drop(\n",
    "    columns = [\n",
    "        \"user\", \n",
    "        'project', \n",
    "        'current_month', \n",
    "        'turnover_num',\n",
    "        'turnover',\n",
    "        'betweenness_centrality_12_intercept',\n",
    "        'betweenness_centrality_12_slope', \n",
    "        'betweenness_centrality_12_std_dev',\n",
    "        'betweenness_centrality_3_intercept', \n",
    "        'betweenness_centrality_3_slope',\n",
    "        'betweenness_centrality_3_std_dev',\n",
    "        'betweenness_centrality_6_intercept', \n",
    "        'betweenness_centrality_6_slope',\n",
    "        'betweenness_centrality_6_std_dev',\n",
    "        'betweenness_centrality_9_intercept', \n",
    "        'betweenness_centrality_9_slope',\n",
    "        'betweenness_centrality_9_std_dev'\n",
    "    ], axis = 1\n",
    ")"
   ]
  },
  {
   "cell_type": "code",
   "execution_count": 5,
   "metadata": {},
   "outputs": [],
   "source": [
    "df = df.astype(np.float64)\n",
    "df = df.replace([np.inf], np.nan)\n",
    "\n",
    "for column in df.columns:\n",
    "    max_value = df[column].max(skipna=True) \n",
    "    df[column] = df[column].fillna(max_value)\n",
    "\n",
    "df = df.replace([-np.inf], np.nan)\n",
    "\n",
    "for column in df.columns:\n",
    "    max_value = df[column].min(skipna=True) \n",
    "    df[column] = df[column].fillna(max_value)"
   ]
  },
  {
   "cell_type": "code",
   "execution_count": 6,
   "metadata": {},
   "outputs": [],
   "source": [
    "for column in df.columns:\n",
    "    max_value = df[column].max(skipna=True) \n",
    "    df[column] = df[column].fillna(max_value)"
   ]
  },
  {
   "cell_type": "code",
   "execution_count": 7,
   "metadata": {},
   "outputs": [],
   "source": [
    "def train_evaluate_krr(alpha, kernel, gamma, degree, coef0, X_train, Y_train, X_test, Y_test):\n",
    "    mse = None\n",
    "    mae = None\n",
    "    r2 = None\n",
    "\n",
    "    try:\n",
    "        krr = KernelRidge(alpha=alpha, kernel=kernel, gamma=gamma, degree=degree, coef0=coef0)\n",
    "        krr.fit(X_train, Y_train)\n",
    "        y_pred = krr.predict(X_test)\n",
    "        \n",
    "        mse = mean_squared_error(Y_test, y_pred)\n",
    "        mae = mean_absolute_error(Y_test, y_pred)\n",
    "        r2 = r2_score(Y_test, y_pred)\n",
    "        \n",
    "        print(f'KRR - Alpha: {alpha}, Kernel: {kernel}, Gamma: {gamma}, Degree: {degree}, Coef0: {coef0} Finalized - MSE: {mse}, MAE: {mae}, R2: {r2}')\n",
    "\n",
    "        return {\n",
    "            'alpha': alpha,\n",
    "            'kernel': kernel,\n",
    "            'gamma': gamma,\n",
    "            'degree': degree,\n",
    "            'coef0': coef0,\n",
    "            'mean_squared_error': mse,\n",
    "            'mean_absolute_error': mae,\n",
    "            'r2_score': r2\n",
    "        }\n",
    "    \n",
    "    except Exception as e:\n",
    "        print(f'KRR - Alpha: {alpha}, Kernel: {kernel}, Gamma: {gamma}, Degree: {degree}, Coef0: {coef0} Error: {e}')\n",
    "    \n",
    "        return {\n",
    "            'alpha': alpha,\n",
    "            'kernel': kernel,\n",
    "            'gamma': gamma,\n",
    "            'degree': degree,\n",
    "            'coef0': coef0,\n",
    "            'mean_squared_error': mse,\n",
    "            'mean_absolute_error': mae,\n",
    "            'r2_score': r2\n",
    "        }"
   ]
  },
  {
   "cell_type": "code",
   "execution_count": 8,
   "metadata": {},
   "outputs": [],
   "source": [
    "param_combinations = [\n",
    "    (alpha, kernel, gamma, degree, coef0)\n",
    "    for alpha in [0.1, 1.0, 10.0]\n",
    "    for kernel in ['linear']\n",
    "    for gamma in [None, 0.1, 1.0]\n",
    "    for degree in [3, 4]\n",
    "    for coef0 in [0.0, 1.0]\n",
    "]"
   ]
  },
  {
   "cell_type": "code",
   "execution_count": 9,
   "metadata": {},
   "outputs": [],
   "source": [
    "x = df.drop(columns = ['time_to_stop_activity'], axis = 1).values\n",
    "y = df['time_to_stop_activity'].values"
   ]
  },
  {
   "cell_type": "code",
   "execution_count": 10,
   "metadata": {},
   "outputs": [],
   "source": [
    "X_train, X_test, Y_train, Y_test = train_test_split(\n",
    "    x, y, \n",
    "    test_size = 0.3, \n",
    "    random_state=11\n",
    ")"
   ]
  },
  {
   "cell_type": "code",
   "execution_count": 11,
   "metadata": {},
   "outputs": [],
   "source": [
    "results = Parallel(n_jobs=3)(\n",
    "    delayed(train_evaluate_krr)(alpha, kernel, gamma, degree, coef0, X_train, Y_train, X_test, Y_test)\n",
    "    for alpha, kernel, gamma, degree, coef0 in param_combinations\n",
    ")"
   ]
  },
  {
   "cell_type": "code",
   "execution_count": 12,
   "metadata": {},
   "outputs": [],
   "source": [
    "benchmark_df = pd.DataFrame(results)"
   ]
  },
  {
   "cell_type": "code",
   "execution_count": 13,
   "metadata": {},
   "outputs": [],
   "source": [
    "benchmark_df.to_excel('KernelRidgeRegressorBenchmark.xlsx')"
   ]
  }
 ],
 "metadata": {
  "kernelspec": {
   "display_name": "Python 3",
   "language": "python",
   "name": "python3"
  },
  "language_info": {
   "codemirror_mode": {
    "name": "ipython",
    "version": 3
   },
   "file_extension": ".py",
   "mimetype": "text/x-python",
   "name": "python",
   "nbconvert_exporter": "python",
   "pygments_lexer": "ipython3",
   "version": "3.10.5"
  }
 },
 "nbformat": 4,
 "nbformat_minor": 2
}
