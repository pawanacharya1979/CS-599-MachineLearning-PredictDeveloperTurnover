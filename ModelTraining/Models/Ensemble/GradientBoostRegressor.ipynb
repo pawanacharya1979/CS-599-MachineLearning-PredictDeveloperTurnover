{
 "cells": [
  {
   "cell_type": "code",
   "execution_count": 12,
   "metadata": {},
   "outputs": [],
   "source": [
    "from sklearn.ensemble import GradientBoostingRegressor\n",
    "from sklearn.metrics import mean_squared_error, mean_absolute_error, r2_score\n",
    "from sklearn.model_selection import train_test_split\n",
    "\n",
    "import pandas as pd\n",
    "import numpy as np\n",
    "from joblib import Parallel, delayed\n",
    "from tqdm import tqdm"
   ]
  },
  {
   "cell_type": "code",
   "execution_count": 13,
   "metadata": {},
   "outputs": [],
   "source": [
    "df = pd.read_parquet('../../../metrics.parquet')"
   ]
  },
  {
   "cell_type": "code",
   "execution_count": 14,
   "metadata": {},
   "outputs": [],
   "source": [
    "df, _ = train_test_split(df, train_size=200000, stratify=df['time_to_stop_activity'], random_state=11)"
   ]
  },
  {
   "cell_type": "code",
   "execution_count": 15,
   "metadata": {},
   "outputs": [],
   "source": [
    "df = df.drop(\n",
    "    columns = [\n",
    "        \"user\", \n",
    "        'project', \n",
    "        'current_month', \n",
    "        'turnover_num',\n",
    "        'turnover',\n",
    "        'betweenness_centrality_12_intercept',\n",
    "        'betweenness_centrality_12_slope', \n",
    "        'betweenness_centrality_12_std_dev',\n",
    "        'betweenness_centrality_3_intercept', \n",
    "        'betweenness_centrality_3_slope',\n",
    "        'betweenness_centrality_3_std_dev',\n",
    "        'betweenness_centrality_6_intercept', \n",
    "        'betweenness_centrality_6_slope',\n",
    "        'betweenness_centrality_6_std_dev',\n",
    "        'betweenness_centrality_9_intercept', \n",
    "        'betweenness_centrality_9_slope',\n",
    "        'betweenness_centrality_9_std_dev'\n",
    "    ], axis = 1\n",
    ")"
   ]
  },
  {
   "cell_type": "code",
   "execution_count": 16,
   "metadata": {},
   "outputs": [],
   "source": [
    "df = df.astype(np.float64)\n",
    "df = df.replace([np.inf], np.nan)\n",
    "\n",
    "for column in df.columns:\n",
    "    max_value = df[column].max(skipna=True) \n",
    "    df[column] = df[column].fillna(max_value)\n",
    "\n",
    "df = df.replace([-np.inf], np.nan)\n",
    "\n",
    "for column in df.columns:\n",
    "    max_value = df[column].min(skipna=True) \n",
    "    df[column] = df[column].fillna(max_value)"
   ]
  },
  {
   "cell_type": "code",
   "execution_count": 17,
   "metadata": {},
   "outputs": [],
   "source": [
    "for column in df.columns:\n",
    "    max_value = df[column].max(skipna=True) \n",
    "    df[column] = df[column].fillna(max_value)"
   ]
  },
  {
   "cell_type": "code",
   "execution_count": 18,
   "metadata": {},
   "outputs": [],
   "source": [
    "def train_evaluate_gb(n_estimators, learning_rate, max_depth, X_train, Y_train, X_test, Y_test):\n",
    "    try:\n",
    "        gb = GradientBoostingRegressor(\n",
    "            n_estimators=n_estimators,\n",
    "            learning_rate=learning_rate,\n",
    "            max_depth=max_depth,\n",
    "            random_state=11\n",
    "        )\n",
    "        \n",
    "        gb.fit(X_train, Y_train)\n",
    "        y_pred = gb.predict(X_test)\n",
    "\n",
    "        mse = mean_squared_error(Y_test, y_pred)\n",
    "        mae = mean_absolute_error(Y_test, y_pred)\n",
    "        r2 = r2_score(Y_test, y_pred)\n",
    "\n",
    "        print(\n",
    "            f\"GB - Estimators: {n_estimators}, Learning Rate: {learning_rate}, Max Depth: {max_depth} \"\n",
    "            f\"Finalized - MSE: {mse:.4f}, MAE: {mae:.4f}, R²: {r2:.4f}\"\n",
    "        )\n",
    "        \n",
    "        return {\n",
    "            'n_estimators': n_estimators,\n",
    "            'learning_rate': learning_rate,\n",
    "            'max_depth': max_depth,\n",
    "            'mean_squared_error': mse,\n",
    "            'mean_absolute_error': mae,\n",
    "            'r2_score': r2\n",
    "        }\n",
    "    \n",
    "    except Exception as e:\n",
    "        print(f\"GB - Estimators: {n_estimators}, Learning Rate: {learning_rate}, Max Depth: {max_depth} Error: {str(e)}\")\n",
    "\n",
    "        return {\n",
    "            'n_estimators': n_estimators,\n",
    "            'learning_rate': learning_rate,\n",
    "            'max_depth': max_depth,\n",
    "            'mean_squared_error': None,\n",
    "            'mean_absolute_error': None,\n",
    "            'r2_score': None\n",
    "        }"
   ]
  },
  {
   "cell_type": "code",
   "execution_count": 19,
   "metadata": {},
   "outputs": [],
   "source": [
    "param_combinations = [\n",
    "    (n_estimators, learning_rate, max_depth)\n",
    "    for n_estimators in [50, 100, 200]\n",
    "    for learning_rate in [0.01, 0.1, 0.2]\n",
    "    for max_depth in [3, 5, 10]\n",
    "]"
   ]
  },
  {
   "cell_type": "code",
   "execution_count": 20,
   "metadata": {},
   "outputs": [],
   "source": [
    "x = df.drop(columns = ['time_to_stop_activity'], axis = 1).values\n",
    "y = df['time_to_stop_activity'].values"
   ]
  },
  {
   "cell_type": "code",
   "execution_count": 21,
   "metadata": {},
   "outputs": [],
   "source": [
    "X_train, X_test, Y_train, Y_test = train_test_split(\n",
    "    x, y, \n",
    "    test_size = 0.3, \n",
    "    random_state=11\n",
    ")"
   ]
  },
  {
   "cell_type": "code",
   "execution_count": 22,
   "metadata": {},
   "outputs": [
    {
     "name": "stdout",
     "output_type": "stream",
     "text": [
      "GB - Estimators: 50, Learning Rate: 0.01, Max Depth: 3 Finalized - MSE: 10.7467, MAE: 2.7165, R²: 0.3805\n",
      "GB - Estimators: 50, Learning Rate: 0.1, Max Depth: 3 Finalized - MSE: 6.0443, MAE: 1.2390, R²: 0.6515\n",
      "GB - Estimators: 50, Learning Rate: 0.2, Max Depth: 3 Finalized - MSE: 5.9092, MAE: 1.1853, R²: 0.6593\n",
      "GB - Estimators: 50, Learning Rate: 0.01, Max Depth: 5 Finalized - MSE: 10.3271, MAE: 2.6655, R²: 0.4046\n",
      "GB - Estimators: 50, Learning Rate: 0.1, Max Depth: 5 Finalized - MSE: 5.7759, MAE: 1.1558, R²: 0.6670\n",
      "GB - Estimators: 50, Learning Rate: 0.2, Max Depth: 5 Finalized - MSE: 5.7194, MAE: 1.1361, R²: 0.6703\n",
      "GB - Estimators: 100, Learning Rate: 0.01, Max Depth: 3 Finalized - MSE: 8.1900, MAE: 2.1535, R²: 0.5278\n",
      "GB - Estimators: 100, Learning Rate: 0.1, Max Depth: 3 Finalized - MSE: 5.8993, MAE: 1.1872, R²: 0.6599\n",
      "GB - Estimators: 100, Learning Rate: 0.2, Max Depth: 3 Finalized - MSE: 5.8163, MAE: 1.1643, R²: 0.6647\n",
      "GB - Estimators: 50, Learning Rate: 0.01, Max Depth: 10 Finalized - MSE: 10.0398, MAE: 2.6328, R²: 0.4212\n",
      "GB - Estimators: 50, Learning Rate: 0.1, Max Depth: 10 Finalized - MSE: 5.4606, MAE: 1.0939, R²: 0.6852\n",
      "GB - Estimators: 50, Learning Rate: 0.2, Max Depth: 10 Finalized - MSE: 5.4187, MAE: 1.0773, R²: 0.6876\n",
      "GB - Estimators: 100, Learning Rate: 0.01, Max Depth: 5 Finalized - MSE: 7.6824, MAE: 2.0636, R²: 0.5571\n",
      "GB - Estimators: 100, Learning Rate: 0.1, Max Depth: 5 Finalized - MSE: 5.7092, MAE: 1.1373, R²: 0.6709\n",
      "GB - Estimators: 100, Learning Rate: 0.2, Max Depth: 5 Finalized - MSE: 5.6334, MAE: 1.1228, R²: 0.6752\n",
      "GB - Estimators: 200, Learning Rate: 0.01, Max Depth: 3 Finalized - MSE: 6.6888, MAE: 1.5797, R²: 0.6144\n",
      "GB - Estimators: 100, Learning Rate: 0.01, Max Depth: 10 Finalized - MSE: 7.3155, MAE: 2.0126, R²: 0.5783\n",
      "GB - Estimators: 200, Learning Rate: 0.1, Max Depth: 3 Finalized - MSE: 5.8193, MAE: 1.1630, R²: 0.6645\n",
      "GB - Estimators: 200, Learning Rate: 0.2, Max Depth: 3 Finalized - MSE: 5.7303, MAE: 1.1500, R²: 0.6696\n",
      "GB - Estimators: 100, Learning Rate: 0.1, Max Depth: 10 Finalized - MSE: 5.3838, MAE: 1.0758, R²: 0.6896\n",
      "GB - Estimators: 100, Learning Rate: 0.2, Max Depth: 10 Finalized - MSE: 5.3544, MAE: 1.0674, R²: 0.6913\n",
      "GB - Estimators: 200, Learning Rate: 0.01, Max Depth: 5 Finalized - MSE: 6.2281, MAE: 1.4779, R²: 0.6410\n",
      "GB - Estimators: 200, Learning Rate: 0.1, Max Depth: 5 Finalized - MSE: 5.6195, MAE: 1.1223, R²: 0.6760\n",
      "GB - Estimators: 200, Learning Rate: 0.2, Max Depth: 5 Finalized - MSE: 5.5285, MAE: 1.1075, R²: 0.6813\n",
      "GB - Estimators: 200, Learning Rate: 0.01, Max Depth: 10 Finalized - MSE: 5.8699, MAE: 1.4097, R²: 0.6616\n",
      "GB - Estimators: 200, Learning Rate: 0.1, Max Depth: 10 Finalized - MSE: 5.2569, MAE: 1.0596, R²: 0.6969\n",
      "GB - Estimators: 200, Learning Rate: 0.2, Max Depth: 10 Finalized - MSE: 5.2803, MAE: 1.0685, R²: 0.6956\n"
     ]
    }
   ],
   "source": [
    "benchmark = Parallel(n_jobs=-1)(\n",
    "    delayed(train_evaluate_gb)(n_estimators, lr, depth, X_train, Y_train, X_test, Y_test)\n",
    "    for n_estimators, lr, depth in param_combinations\n",
    ")"
   ]
  },
  {
   "cell_type": "code",
   "execution_count": 23,
   "metadata": {},
   "outputs": [],
   "source": [
    "benchmark_df = pd.DataFrame(benchmark)"
   ]
  },
  {
   "cell_type": "code",
   "execution_count": 24,
   "metadata": {},
   "outputs": [],
   "source": [
    "benchmark_df.to_excel('GradientBoostRegressorBenchmark.xlsx')"
   ]
  }
 ],
 "metadata": {
  "kernelspec": {
   "display_name": "Python 3",
   "language": "python",
   "name": "python3"
  },
  "language_info": {
   "codemirror_mode": {
    "name": "ipython",
    "version": 3
   },
   "file_extension": ".py",
   "mimetype": "text/x-python",
   "name": "python",
   "nbconvert_exporter": "python",
   "pygments_lexer": "ipython3",
   "version": "3.9.6"
  }
 },
 "nbformat": 4,
 "nbformat_minor": 2
}
