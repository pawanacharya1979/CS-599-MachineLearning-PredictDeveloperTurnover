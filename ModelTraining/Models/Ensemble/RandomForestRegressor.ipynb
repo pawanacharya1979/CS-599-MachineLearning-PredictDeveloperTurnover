{
 "cells": [
  {
   "cell_type": "code",
   "execution_count": 25,
   "metadata": {},
   "outputs": [],
   "source": [
    "import pandas as pd\n",
    "import numpy as np\n",
    "from joblib import Parallel, delayed\n",
    "from tqdm import tqdm\n",
    "from sklearn.model_selection import train_test_split\n",
    "from sklearn.ensemble import RandomForestRegressor\n",
    "from sklearn.metrics import mean_squared_error, mean_absolute_error, r2_score"
   ]
  },
  {
   "cell_type": "code",
   "execution_count": 26,
   "metadata": {},
   "outputs": [],
   "source": [
    "df = pd.read_parquet('../../../metrics.parquet')"
   ]
  },
  {
   "cell_type": "code",
   "execution_count": 27,
   "metadata": {},
   "outputs": [],
   "source": [
    "df, _ = train_test_split(df, train_size=100000, stratify=df['time_to_stop_activity'], random_state=11)"
   ]
  },
  {
   "cell_type": "code",
   "execution_count": 28,
   "metadata": {},
   "outputs": [],
   "source": [
    "df = df.drop(\n",
    "    columns = [\n",
    "        \"user\", \n",
    "        'project', \n",
    "        'current_month', \n",
    "        'turnover_num',\n",
    "        'turnover',\n",
    "        'betweenness_centrality_12_intercept',\n",
    "        'betweenness_centrality_12_slope', \n",
    "        'betweenness_centrality_12_std_dev',\n",
    "        'betweenness_centrality_3_intercept', \n",
    "        'betweenness_centrality_3_slope',\n",
    "        'betweenness_centrality_3_std_dev',\n",
    "        'betweenness_centrality_6_intercept', \n",
    "        'betweenness_centrality_6_slope',\n",
    "        'betweenness_centrality_6_std_dev',\n",
    "        'betweenness_centrality_9_intercept', \n",
    "        'betweenness_centrality_9_slope',\n",
    "        'betweenness_centrality_9_std_dev'\n",
    "    ], axis = 1\n",
    ")"
   ]
  },
  {
   "cell_type": "code",
   "execution_count": 29,
   "metadata": {},
   "outputs": [],
   "source": [
    "df = df.astype(np.float64)\n",
    "df = df.replace([np.inf], np.nan)\n",
    "\n",
    "for column in df.columns:\n",
    "    max_value = df[column].max(skipna=True) \n",
    "    df[column] = df[column].fillna(max_value)\n",
    "\n",
    "df = df.replace([-np.inf], np.nan)\n",
    "\n",
    "for column in df.columns:\n",
    "    max_value = df[column].min(skipna=True) \n",
    "    df[column] = df[column].fillna(max_value)"
   ]
  },
  {
   "cell_type": "code",
   "execution_count": 30,
   "metadata": {},
   "outputs": [],
   "source": [
    "for column in df.columns:\n",
    "    max_value = df[column].max(skipna=True) \n",
    "    df[column] = df[column].fillna(max_value)"
   ]
  },
  {
   "cell_type": "code",
   "execution_count": 31,
   "metadata": {},
   "outputs": [],
   "source": [
    "def train_evaluate_rf(n_estimators, max_depth, min_samples_split, X_train, Y_train, X_test, Y_test):\n",
    "    mse = None; mae = None; r2 = None\n",
    "\n",
    "    try:\n",
    "        rf = RandomForestRegressor(\n",
    "            n_estimators = n_estimators, \n",
    "            max_depth = max_depth, \n",
    "            min_samples_split = min_samples_split\n",
    "        )\n",
    "        rf.fit(X_train, Y_train)\n",
    "        y_pred = rf.predict(X_test)\n",
    "        \n",
    "        mse = mean_squared_error(Y_test, y_pred)\n",
    "        mae = mean_absolute_error(Y_test, y_pred)\n",
    "        r2 = r2_score(Y_test, y_pred)\n",
    "\n",
    "        print(f'RF - Estimators: {n_estimators}, Max Depth: {max_depth}, Min Samples Split: {min_samples_split} Finalized - {mse}, {mae}, {r2}')\n",
    "        \n",
    "        return {\n",
    "            'n_estimators': n_estimators,\n",
    "            'max_depth': max_depth, \n",
    "            'min_samples_split': min_samples_split, \n",
    "            'mean_squared_error': mse,\n",
    "            'mean_absolute_error': mae,\n",
    "            'r2_score': r2\n",
    "        }\n",
    "    \n",
    "    except Exception as e:\n",
    "        print(f'RF - Estimators: {n_estimators}, Max Depth: {max_depth}, Min Samples Split: {min_samples_split} Error')\n",
    "        return None\n"
   ]
  },
  {
   "cell_type": "code",
   "execution_count": 32,
   "metadata": {},
   "outputs": [],
   "source": [
    "x = df.drop(columns = ['time_to_stop_activity'], axis = 1).values\n",
    "y = df['time_to_stop_activity'].values"
   ]
  },
  {
   "cell_type": "code",
   "execution_count": 33,
   "metadata": {},
   "outputs": [],
   "source": [
    "X_train, X_test, Y_train, Y_test = train_test_split(\n",
    "    x, y, \n",
    "    test_size = 0.3, \n",
    "    random_state=11\n",
    ")"
   ]
  },
  {
   "cell_type": "code",
   "execution_count": 34,
   "metadata": {},
   "outputs": [],
   "source": [
    "param_combinations = [\n",
    "    (n_estimators, max_depth, min_samples_split) \n",
    "    for n_estimators in [50, 100, 200]\n",
    "    for max_depth in [10, 20, 30]\n",
    "    for min_samples_split in [2, 5, 10]\n",
    "]"
   ]
  },
  {
   "cell_type": "code",
   "execution_count": 35,
   "metadata": {},
   "outputs": [
    {
     "name": "stdout",
     "output_type": "stream",
     "text": [
      "RF - Estimators: 50, Max Depth: 10, Min Samples Split: 2 Finalized - 5.74725060391653, 1.0900894808766532, 0.6683264290136646\n",
      "RF - Estimators: 50, Max Depth: 10, Min Samples Split: 5 Finalized - 5.719923871773111, 1.090670906961916, 0.6699034534829331\n",
      "RF - Estimators: 50, Max Depth: 10, Min Samples Split: 10 Finalized - 5.741516821674083, 1.0927724619412837, 0.668657325326123\n",
      "RF - Estimators: 50, Max Depth: 20, Min Samples Split: 10 Finalized - 5.591471854325733, 1.0802381951497944, 0.6773164135682541\n",
      "RF - Estimators: 50, Max Depth: 20, Min Samples Split: 5 Finalized - 5.61072037575584, 1.0797658809468877, 0.6762055822718809\n",
      "RF - Estimators: 50, Max Depth: 20, Min Samples Split: 2 Finalized - 5.590355477975892, 1.072842441005553, 0.6773808395966344\n",
      "RF - Estimators: 50, Max Depth: 30, Min Samples Split: 10 Finalized - 5.62264217672564, 1.122089041538, 0.6755175756800773\n",
      "RF - Estimators: 50, Max Depth: 30, Min Samples Split: 5 Finalized - 5.653652883169954, 1.1252165594870442, 0.6737279492214389\n",
      "RF - Estimators: 50, Max Depth: 30, Min Samples Split: 2 Finalized - 5.695731249339285, 1.130169968301392, 0.6712996086233898\n",
      "RF - Estimators: 100, Max Depth: 10, Min Samples Split: 10 Finalized - 5.7147652025843, 1.0896875903639676, 0.6702011600472204\n",
      "RF - Estimators: 100, Max Depth: 10, Min Samples Split: 5 Finalized - 5.742227932287379, 1.0924315436446064, 0.6686162871649686\n",
      "RF - Estimators: 100, Max Depth: 10, Min Samples Split: 2 Finalized - 5.702885363105469, 1.090375863266841, 0.6708867450432885\n",
      "RF - Estimators: 100, Max Depth: 20, Min Samples Split: 10 Finalized - 5.558184551317059, 1.0752294394301276, 0.6792374223110897\n",
      "RF - Estimators: 100, Max Depth: 20, Min Samples Split: 2 Finalized - 5.574981599411611, 1.0726059853946126, 0.6782680654294266\n",
      "RF - Estimators: 100, Max Depth: 20, Min Samples Split: 5 Finalized - 5.560187708784155, 1.0719924500729636, 0.6791218201847606\n",
      "RF - Estimators: 100, Max Depth: 30, Min Samples Split: 2 Finalized - 5.661047687793844, 1.1209981244335596, 0.6733011953828851\n",
      "RF - Estimators: 100, Max Depth: 30, Min Samples Split: 10 Finalized - 5.601149329265676, 1.1174365300287687, 0.6767579269295692\n",
      "RF - Estimators: 100, Max Depth: 30, Min Samples Split: 5 Finalized - 5.611737244755789, 1.1176694644594816, 0.6761468988081376\n",
      "RF - Estimators: 200, Max Depth: 10, Min Samples Split: 2 Finalized - 5.706130006215242, 1.0885728667477914, 0.6706994968369789\n",
      "RF - Estimators: 200, Max Depth: 10, Min Samples Split: 10 Finalized - 5.717091431368821, 1.091451891033298, 0.6700669134898547\n",
      "RF - Estimators: 200, Max Depth: 10, Min Samples Split: 5 Finalized - 5.711095125686765, 1.0898052424749878, 0.6704129600180743\n",
      "RF - Estimators: 200, Max Depth: 20, Min Samples Split: 2 Finalized - 5.550125853569663, 1.0683485504903785, 0.6797024893916095\n",
      "RF - Estimators: 200, Max Depth: 20, Min Samples Split: 10 Finalized - 5.552662238972274, 1.075583212108777, 0.679556114705371\n",
      "RF - Estimators: 200, Max Depth: 20, Min Samples Split: 5 Finalized - 5.541974102694094, 1.070030477352019, 0.6801729265639243\n",
      "RF - Estimators: 200, Max Depth: 30, Min Samples Split: 10 Finalized - 5.575198925320319, 1.1120407619488104, 0.6782555235611183\n",
      "RF - Estimators: 200, Max Depth: 30, Min Samples Split: 5 Finalized - 5.587060583129133, 1.1133425851308059, 0.6775709878284002\n",
      "RF - Estimators: 200, Max Depth: 30, Min Samples Split: 2 Finalized - 5.634701259362479, 1.1174904836360775, 0.674821646569512\n"
     ]
    }
   ],
   "source": [
    "benchmark = Parallel(n_jobs=-1)(\n",
    "    delayed(train_evaluate_rf)(reg, dep, min_samples, X_train, Y_train, X_test, Y_test)\n",
    "    for reg, dep, min_samples in param_combinations\n",
    ")"
   ]
  },
  {
   "cell_type": "code",
   "execution_count": 36,
   "metadata": {},
   "outputs": [],
   "source": [
    "benchmark_df = pd.DataFrame(benchmark)"
   ]
  },
  {
   "cell_type": "code",
   "execution_count": 37,
   "metadata": {},
   "outputs": [],
   "source": [
    "benchmark_df.to_excel('RandomForestRegressorBenchmark.xlsx')"
   ]
  },
  {
   "cell_type": "code",
   "execution_count": null,
   "metadata": {},
   "outputs": [],
   "source": []
  }
 ],
 "metadata": {
  "kernelspec": {
   "display_name": "Python 3",
   "language": "python",
   "name": "python3"
  },
  "language_info": {
   "codemirror_mode": {
    "name": "ipython",
    "version": 3
   },
   "file_extension": ".py",
   "mimetype": "text/x-python",
   "name": "python",
   "nbconvert_exporter": "python",
   "pygments_lexer": "ipython3",
   "version": "3.9.6"
  }
 },
 "nbformat": 4,
 "nbformat_minor": 2
}
