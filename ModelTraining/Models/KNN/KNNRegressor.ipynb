{
 "cells": [
  {
   "cell_type": "code",
   "execution_count": 12,
   "metadata": {},
   "outputs": [],
   "source": [
    "from sklearn.neighbors import KNeighborsRegressor\n",
    "from sklearn.metrics import mean_squared_error, mean_absolute_error, r2_score\n",
    "from sklearn.model_selection import train_test_split\n",
    "\n",
    "import pandas as pd\n",
    "import numpy as np\n",
    "from joblib import Parallel, delayed\n",
    "from tqdm import tqdm"
   ]
  },
  {
   "cell_type": "code",
   "execution_count": 13,
   "metadata": {},
   "outputs": [],
   "source": [
    "df = pd.read_parquet('../../../metrics.parquet')"
   ]
  },
  {
   "cell_type": "code",
   "execution_count": 14,
   "metadata": {},
   "outputs": [],
   "source": [
    "df, _ = train_test_split(df, train_size=50000, stratify=df['time_to_stop_activity'], random_state=11)"
   ]
  },
  {
   "cell_type": "code",
   "execution_count": 15,
   "metadata": {},
   "outputs": [],
   "source": [
    "df = df.drop(\n",
    "    columns = [\n",
    "        \"user\", \n",
    "        'project', \n",
    "        'current_month', \n",
    "        'turnover_num',\n",
    "        'turnover',\n",
    "        'betweenness_centrality_12_intercept',\n",
    "        'betweenness_centrality_12_slope', \n",
    "        'betweenness_centrality_12_std_dev',\n",
    "        'betweenness_centrality_3_intercept', \n",
    "        'betweenness_centrality_3_slope',\n",
    "        'betweenness_centrality_3_std_dev',\n",
    "        'betweenness_centrality_6_intercept', \n",
    "        'betweenness_centrality_6_slope',\n",
    "        'betweenness_centrality_6_std_dev',\n",
    "        'betweenness_centrality_9_intercept', \n",
    "        'betweenness_centrality_9_slope',\n",
    "        'betweenness_centrality_9_std_dev'\n",
    "    ], axis = 1\n",
    ")"
   ]
  },
  {
   "cell_type": "code",
   "execution_count": 16,
   "metadata": {},
   "outputs": [],
   "source": [
    "df = df.astype(np.float64)\n",
    "df = df.replace([np.inf], np.nan)\n",
    "\n",
    "for column in df.columns:\n",
    "    max_value = df[column].max(skipna=True) \n",
    "    df[column] = df[column].fillna(max_value)\n",
    "\n",
    "df = df.replace([-np.inf], np.nan)\n",
    "\n",
    "for column in df.columns:\n",
    "    max_value = df[column].min(skipna=True) \n",
    "    df[column] = df[column].fillna(max_value)"
   ]
  },
  {
   "cell_type": "code",
   "execution_count": 17,
   "metadata": {},
   "outputs": [],
   "source": [
    "for column in df.columns:\n",
    "    max_value = df[column].max(skipna=True) \n",
    "    df[column] = df[column].fillna(max_value)"
   ]
  },
  {
   "cell_type": "code",
   "execution_count": 18,
   "metadata": {},
   "outputs": [],
   "source": [
    "def train_evaluate_knn(n_neighbors, weights, algorithm, X_train, Y_train, X_test, Y_test):\n",
    "    try:\n",
    "        knn = KNeighborsRegressor(\n",
    "            n_neighbors=n_neighbors,\n",
    "            weights=weights,\n",
    "            algorithm=algorithm\n",
    "        )\n",
    "        \n",
    "        knn.fit(X_train, Y_train)\n",
    "        y_pred = knn.predict(X_test)\n",
    "\n",
    "        mse = mean_squared_error(Y_test, y_pred)\n",
    "        mae = mean_absolute_error(Y_test, y_pred)\n",
    "        r2 = r2_score(Y_test, y_pred)\n",
    "\n",
    "        print(\n",
    "            f\"KNN - Neighbors: {n_neighbors}, Weights: {weights}, Algorithm: {algorithm} \"\n",
    "            f\"Finalized - MSE: {mse:.4f}, MAE: {mae:.4f}, R²: {r2:.4f}\"\n",
    "        )\n",
    "        \n",
    "        return {\n",
    "            'n_neighbors': n_neighbors,\n",
    "            'weights': weights,\n",
    "            'algorithm': algorithm,\n",
    "            'mean_squared_error': mse,\n",
    "            'mean_absolute_error': mae,\n",
    "            'r2_score': r2\n",
    "        }\n",
    "    \n",
    "    except Exception as e:\n",
    "        print(\n",
    "            f\"KNN - Neighbors: {n_neighbors}, Weights: {weights}, Algorithm: {algorithm} Error: {str(e)}\"\n",
    "        )\n",
    "\n",
    "        return {\n",
    "            'n_neighbors': n_neighbors,\n",
    "            'weights': weights,\n",
    "            'algorithm': algorithm,\n",
    "            'mean_squared_error': None,\n",
    "            'mean_absolute_error': None,\n",
    "            'r2_score': None\n",
    "        }\n"
   ]
  },
  {
   "cell_type": "code",
   "execution_count": 19,
   "metadata": {},
   "outputs": [],
   "source": [
    "param_combinations = [\n",
    "        (n_neighbors, weights, algorithm)\n",
    "        for n_neighbors in [3, 5, 10, 20, 50]\n",
    "        for weights in ['uniform', 'distance']\n",
    "        for algorithm in ['auto', 'ball_tree', 'kd_tree']\n",
    "    ]"
   ]
  },
  {
   "cell_type": "code",
   "execution_count": 20,
   "metadata": {},
   "outputs": [],
   "source": [
    "x = df.drop(columns = ['time_to_stop_activity'], axis = 1).values\n",
    "y = df['time_to_stop_activity'].values"
   ]
  },
  {
   "cell_type": "code",
   "execution_count": 21,
   "metadata": {},
   "outputs": [],
   "source": [
    "X_train, X_test, Y_train, Y_test = train_test_split(\n",
    "    x, y, \n",
    "    test_size = 0.3, \n",
    "    random_state=11\n",
    ")"
   ]
  },
  {
   "cell_type": "code",
   "execution_count": 22,
   "metadata": {},
   "outputs": [
    {
     "name": "stdout",
     "output_type": "stream",
     "text": [
      "KNN - Neighbors: 3, Weights: uniform, Algorithm: auto Finalized - MSE: 7.7558, MAE: 1.3404, R²: 0.5550\n",
      "KNN - Neighbors: 3, Weights: distance, Algorithm: auto Finalized - MSE: 8.0444, MAE: 1.3264, R²: 0.5384\n",
      "KNN - Neighbors: 5, Weights: distance, Algorithm: auto Finalized - MSE: 7.4375, MAE: 1.2968, R²: 0.5732\n",
      "KNN - Neighbors: 10, Weights: distance, Algorithm: auto Finalized - MSE: 6.9924, MAE: 1.2601, R²: 0.5988\n",
      "KNN - Neighbors: 5, Weights: uniform, Algorithm: auto Finalized - MSE: 7.1506, MAE: 1.3127, R²: 0.5897\n",
      "KNN - Neighbors: 10, Weights: uniform, Algorithm: auto Finalized - MSE: 6.7273, MAE: 1.2725, R²: 0.6140\n",
      "KNN - Neighbors: 3, Weights: uniform, Algorithm: kd_tree Finalized - MSE: 7.7597, MAE: 1.3414, R²: 0.5547\n",
      "KNN - Neighbors: 3, Weights: distance, Algorithm: kd_tree Finalized - MSE: 8.0472, MAE: 1.3271, R²: 0.5382\n",
      "KNN - Neighbors: 5, Weights: distance, Algorithm: kd_tree Finalized - MSE: 7.4378, MAE: 1.2968, R²: 0.5732\n",
      "KNN - Neighbors: 5, Weights: uniform, Algorithm: kd_tree Finalized - MSE: 7.1494, MAE: 1.3124, R²: 0.5898\n",
      "KNN - Neighbors: 10, Weights: uniform, Algorithm: kd_tree Finalized - MSE: 6.7264, MAE: 1.2724, R²: 0.6140\n",
      "KNN - Neighbors: 20, Weights: uniform, Algorithm: auto Finalized - MSE: 6.5799, MAE: 1.2310, R²: 0.6224\n",
      "KNN - Neighbors: 20, Weights: distance, Algorithm: auto Finalized - MSE: 6.8031, MAE: 1.2278, R²: 0.6096\n",
      "KNN - Neighbors: 50, Weights: uniform, Algorithm: auto Finalized - MSE: 6.6005, MAE: 1.2263, R²: 0.6212\n",
      "KNN - Neighbors: 10, Weights: distance, Algorithm: kd_tree Finalized - MSE: 6.9925, MAE: 1.2601, R²: 0.5988\n",
      "KNN - Neighbors: 50, Weights: distance, Algorithm: auto Finalized - MSE: 6.7571, MAE: 1.2133, R²: 0.6123\n",
      "KNN - Neighbors: 20, Weights: uniform, Algorithm: kd_tree Finalized - MSE: 6.5792, MAE: 1.2308, R²: 0.6225\n",
      "KNN - Neighbors: 20, Weights: distance, Algorithm: kd_tree Finalized - MSE: 6.8023, MAE: 1.2277, R²: 0.6097\n",
      "KNN - Neighbors: 50, Weights: uniform, Algorithm: kd_tree Finalized - MSE: 6.6002, MAE: 1.2263, R²: 0.6213\n",
      "KNN - Neighbors: 50, Weights: distance, Algorithm: kd_tree Finalized - MSE: 6.7571, MAE: 1.2133, R²: 0.6123\n",
      "KNN - Neighbors: 3, Weights: uniform, Algorithm: ball_tree Finalized - MSE: 7.7617, MAE: 1.3418, R²: 0.5546\n",
      "KNN - Neighbors: 3, Weights: distance, Algorithm: ball_tree Finalized - MSE: 8.0476, MAE: 1.3273, R²: 0.5382\n",
      "KNN - Neighbors: 5, Weights: uniform, Algorithm: ball_tree Finalized - MSE: 7.1513, MAE: 1.3122, R²: 0.5896\n",
      "KNN - Neighbors: 5, Weights: distance, Algorithm: ball_tree Finalized - MSE: 7.4394, MAE: 1.2968, R²: 0.5731\n",
      "KNN - Neighbors: 10, Weights: uniform, Algorithm: ball_tree Finalized - MSE: 6.7278, MAE: 1.2725, R²: 0.6139\n",
      "KNN - Neighbors: 10, Weights: distance, Algorithm: ball_tree Finalized - MSE: 6.9926, MAE: 1.2601, R²: 0.5987\n",
      "KNN - Neighbors: 20, Weights: uniform, Algorithm: ball_tree Finalized - MSE: 6.5800, MAE: 1.2308, R²: 0.6224\n",
      "KNN - Neighbors: 20, Weights: distance, Algorithm: ball_tree Finalized - MSE: 6.8031, MAE: 1.2278, R²: 0.6096\n",
      "KNN - Neighbors: 50, Weights: uniform, Algorithm: ball_tree Finalized - MSE: 6.6005, MAE: 1.2264, R²: 0.6212\n",
      "KNN - Neighbors: 50, Weights: distance, Algorithm: ball_tree Finalized - MSE: 6.7571, MAE: 1.2133, R²: 0.6123\n"
     ]
    }
   ],
   "source": [
    "results = Parallel(n_jobs=-1)(\n",
    "    delayed(train_evaluate_knn)(n_neighbors, weights, algorithm, X_train, Y_train, X_test, Y_test)\n",
    "    for n_neighbors, weights, algorithm in param_combinations\n",
    ")"
   ]
  },
  {
   "cell_type": "code",
   "execution_count": 23,
   "metadata": {},
   "outputs": [],
   "source": [
    "benchmark_df = pd.DataFrame(results)"
   ]
  },
  {
   "cell_type": "code",
   "execution_count": 24,
   "metadata": {},
   "outputs": [],
   "source": [
    "benchmark_df.to_excel('KNNRegressorBenchmark.xlsx')"
   ]
  }
 ],
 "metadata": {
  "kernelspec": {
   "display_name": "Python 3",
   "language": "python",
   "name": "python3"
  },
  "language_info": {
   "codemirror_mode": {
    "name": "ipython",
    "version": 3
   },
   "file_extension": ".py",
   "mimetype": "text/x-python",
   "name": "python",
   "nbconvert_exporter": "python",
   "pygments_lexer": "ipython3",
   "version": "3.9.6"
  }
 },
 "nbformat": 4,
 "nbformat_minor": 2
}
