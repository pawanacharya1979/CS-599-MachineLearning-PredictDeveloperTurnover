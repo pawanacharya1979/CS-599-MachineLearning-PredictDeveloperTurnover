{
 "cells": [
  {
   "cell_type": "code",
   "execution_count": 27,
   "metadata": {},
   "outputs": [],
   "source": [
    "from sklearn.neighbors import RadiusNeighborsRegressor\n",
    "from sklearn.metrics import mean_squared_error, mean_absolute_error, r2_score\n",
    "from sklearn.model_selection import train_test_split\n",
    "\n",
    "import pandas as pd\n",
    "import numpy as np\n",
    "from joblib import Parallel, delayed\n",
    "from tqdm import tqdm"
   ]
  },
  {
   "cell_type": "code",
   "execution_count": 28,
   "metadata": {},
   "outputs": [],
   "source": [
    "df = pd.read_parquet('../../../metrics.parquet')"
   ]
  },
  {
   "cell_type": "code",
   "execution_count": 29,
   "metadata": {},
   "outputs": [],
   "source": [
    "df, _ = train_test_split(df, train_size=50000, stratify=df['time_to_stop_activity'], random_state=11)"
   ]
  },
  {
   "cell_type": "code",
   "execution_count": 30,
   "metadata": {},
   "outputs": [],
   "source": [
    "df = df.drop(\n",
    "    columns = [\n",
    "        \"user\", \n",
    "        'project', \n",
    "        'current_month', \n",
    "        'turnover_num',\n",
    "        'turnover',\n",
    "        'betweenness_centrality_12_intercept',\n",
    "        'betweenness_centrality_12_slope', \n",
    "        'betweenness_centrality_12_std_dev',\n",
    "        'betweenness_centrality_3_intercept', \n",
    "        'betweenness_centrality_3_slope',\n",
    "        'betweenness_centrality_3_std_dev',\n",
    "        'betweenness_centrality_6_intercept', \n",
    "        'betweenness_centrality_6_slope',\n",
    "        'betweenness_centrality_6_std_dev',\n",
    "        'betweenness_centrality_9_intercept', \n",
    "        'betweenness_centrality_9_slope',\n",
    "        'betweenness_centrality_9_std_dev'\n",
    "    ], axis = 1\n",
    ")"
   ]
  },
  {
   "cell_type": "code",
   "execution_count": 31,
   "metadata": {},
   "outputs": [],
   "source": [
    "df = df.astype(np.float64)\n",
    "df = df.replace([np.inf], np.nan)\n",
    "\n",
    "for column in df.columns:\n",
    "    max_value = df[column].max(skipna=True) \n",
    "    df[column] = df[column].fillna(max_value)\n",
    "\n",
    "df = df.replace([-np.inf], np.nan)\n",
    "\n",
    "for column in df.columns:\n",
    "    max_value = df[column].min(skipna=True) \n",
    "    df[column] = df[column].fillna(max_value)"
   ]
  },
  {
   "cell_type": "code",
   "execution_count": 32,
   "metadata": {},
   "outputs": [],
   "source": [
    "for column in df.columns:\n",
    "    max_value = df[column].max(skipna=True) \n",
    "    df[column] = df[column].fillna(max_value)"
   ]
  },
  {
   "cell_type": "code",
   "execution_count": 33,
   "metadata": {},
   "outputs": [],
   "source": [
    "def train_evaluate_radius_neighbors(radius, weights, metric, X_train, Y_train, X_test, Y_test):\n",
    "    mse = None\n",
    "    mae = None\n",
    "    r2 = None\n",
    "\n",
    "    try:\n",
    "        rnr = RadiusNeighborsRegressor(radius=radius, weights=weights, metric=metric)\n",
    "        rnr.fit(X_train, Y_train)\n",
    "\n",
    "        y_pred = []\n",
    "        neighborhoods = rnr.radius_neighbors(X_test, return_distance=False)\n",
    "        default_value = Y_train.mean()\n",
    "\n",
    "        for i, neighbors in enumerate(neighborhoods):\n",
    "            if len(neighbors) == 0: \n",
    "                y_pred.append(default_value)\n",
    "            else: \n",
    "                y_pred.append(rnr.predict(X_test[i].reshape(1, -1))[0])\n",
    "\n",
    "        mse = mean_squared_error(Y_test, y_pred)\n",
    "        mae = mean_absolute_error(Y_test, y_pred)\n",
    "        r2 = r2_score(Y_test, y_pred)\n",
    "\n",
    "        print(f'RNR - Radius: {radius}, Weights: {weights}, Metric: {metric} Finalized - MSE: {mse}, MAE: {mae}, R2: {r2}')\n",
    "\n",
    "        return {\n",
    "            'radius': radius,\n",
    "            'weights': weights,\n",
    "            'metric': metric,\n",
    "            'mean_squared_error': mse,\n",
    "            'mean_absolute_error': mae,\n",
    "            'r2_score': r2\n",
    "        }\n",
    "    \n",
    "    except Exception as e:\n",
    "        print(f'RNR - Radius: {radius}, Weights: {weights}, Metric: {metric} Error: {e}')\n",
    "    \n",
    "        return {\n",
    "            'radius': radius,\n",
    "            'weights': weights,\n",
    "            'metric': metric,\n",
    "            'mean_squared_error': mse,\n",
    "            'mean_absolute_error': mae,\n",
    "            'r2_score': r2\n",
    "        }"
   ]
  },
  {
   "cell_type": "code",
   "execution_count": 34,
   "metadata": {},
   "outputs": [],
   "source": [
    "param_combinations = [\n",
    "    (radius, weights, metric)\n",
    "    for radius in [1.0, 2.0, 3.0, 4.0, 5.0, 10.0, 20.0]\n",
    "    for weights in ['uniform', 'distance']\n",
    "    for metric in ['euclidean', 'manhattan']\n",
    "]"
   ]
  },
  {
   "cell_type": "code",
   "execution_count": 35,
   "metadata": {},
   "outputs": [],
   "source": [
    "x = df.drop(columns = ['time_to_stop_activity'], axis = 1).values\n",
    "y = df['time_to_stop_activity'].values"
   ]
  },
  {
   "cell_type": "code",
   "execution_count": 36,
   "metadata": {},
   "outputs": [],
   "source": [
    "X_train, X_test, Y_train, Y_test = train_test_split(\n",
    "    x, y, \n",
    "    test_size = 0.3, \n",
    "    random_state=11\n",
    ")"
   ]
  },
  {
   "cell_type": "code",
   "execution_count": 37,
   "metadata": {},
   "outputs": [
    {
     "name": "stdout",
     "output_type": "stream",
     "text": [
      "RNR - Radius: 1.0, Weights: uniform, Metric: manhattan Finalized - MSE: 8.91739469840397, MAE: 1.8279264983061443, R2: 0.4882982549950846\n",
      "RNR - Radius: 1.0, Weights: distance, Metric: manhattan Finalized - MSE: 7.636572119928413, MAE: 1.4606795739565488, R2: 0.5617949623422361\n",
      "RNR - Radius: 1.0, Weights: uniform, Metric: euclidean Finalized - MSE: 11.602712085716359, MAE: 2.277469166326181, R2: 0.3342082276437415\n",
      "RNR - Radius: 1.0, Weights: distance, Metric: euclidean Finalized - MSE: 7.615786731356675, MAE: 1.5323858513816602, R2: 0.5629876783722518\n",
      "RNR - Radius: 2.0, Weights: uniform, Metric: manhattan Finalized - MSE: 11.643434410800685, MAE: 2.2593376345994263, R2: 0.33187148182155224\n",
      "RNR - Radius: 2.0, Weights: uniform, Metric: euclidean Finalized - MSE: 13.081964293981233, MAE: 2.6792719943933343, R2: 0.24932514666864602\n",
      "RNR - Radius: 2.0, Weights: distance, Metric: manhattan Finalized - MSE: 7.660986407037408, MAE: 1.5040653575227947, R2: 0.5603940113089754\n"
     ]
    },
    {
     "name": "stderr",
     "output_type": "stream",
     "text": [
      "/Users/pro32/Library/Python/3.9/lib/python/site-packages/joblib/externals/loky/process_executor.py:752: UserWarning: A worker stopped while some jobs were given to the executor. This can be caused by a too short worker timeout or by a memory leak.\n",
      "  warnings.warn(\n"
     ]
    },
    {
     "name": "stdout",
     "output_type": "stream",
     "text": [
      "RNR - Radius: 2.0, Weights: distance, Metric: euclidean Finalized - MSE: 7.997311934523677, MAE: 1.7507122336630347, R2: 0.5410948364798938\n",
      "RNR - Radius: 3.0, Weights: uniform, Metric: manhattan Finalized - MSE: 12.338496527970582, MAE: 2.369251394607176, R2: 0.291987131036193\n",
      "RNR - Radius: 3.0, Weights: uniform, Metric: euclidean Finalized - MSE: 14.226344255683758, MAE: 2.9485204477591087, R2: 0.18365784773696958\n",
      "RNR - Radius: 3.0, Weights: distance, Metric: manhattan Finalized - MSE: 7.574057809780151, MAE: 1.5319579545798188, R2: 0.5653821851435741\n",
      "RNR - Radius: 3.0, Weights: distance, Metric: euclidean Finalized - MSE: 8.565382570652796, MAE: 1.9425116639914284, R2: 0.5084975650094106\n",
      "RNR - Radius: 4.0, Weights: uniform, Metric: euclidean Finalized - MSE: 15.004724203145503, MAE: 3.1103164921975814, R2: 0.13899251768666943\n",
      "RNR - Radius: 4.0, Weights: uniform, Metric: manhattan Finalized - MSE: 12.422968271094549, MAE: 2.4126773765691283, R2: 0.2871399374530854\n",
      "RNR - Radius: 4.0, Weights: distance, Metric: manhattan Finalized - MSE: 7.515117488641818, MAE: 1.5532255345295474, R2: 0.5687643237835776\n",
      "RNR - Radius: 4.0, Weights: distance, Metric: euclidean Finalized - MSE: 9.039562168048748, MAE: 2.068633654403808, R2: 0.48128798915911597\n",
      "RNR - Radius: 5.0, Weights: uniform, Metric: manhattan Finalized - MSE: 12.54531259048789, MAE: 2.4792437417369255, R2: 0.28011952354943526\n",
      "RNR - Radius: 5.0, Weights: uniform, Metric: euclidean Finalized - MSE: 15.47299921851135, MAE: 3.213793456088155, R2: 0.11212176108016947\n",
      "RNR - Radius: 5.0, Weights: distance, Metric: manhattan Finalized - MSE: 7.513232613614727, MAE: 1.5804854758284117, R2: 0.5688724824861021\n",
      "RNR - Radius: 5.0, Weights: distance, Metric: euclidean Finalized - MSE: 9.29912317911972, MAE: 2.1472394491439464, R2: 0.4663937485437457\n",
      "RNR - Radius: 10.0, Weights: uniform, Metric: manhattan Finalized - MSE: 13.719042141340186, MAE: 2.8505734408498653, R2: 0.21276807397835706\n",
      "RNR - Radius: 10.0, Weights: uniform, Metric: euclidean Finalized - MSE: 16.288215694709077, MAE: 3.4132915623567968, R2: 0.0653426616306636\n",
      "RNR - Radius: 10.0, Weights: distance, Metric: manhattan Finalized - MSE: 7.828272618372034, MAE: 1.7822219235867252, R2: 0.5507947225985059\n",
      "RNR - Radius: 10.0, Weights: distance, Metric: euclidean Finalized - MSE: 9.733523195573408, MAE: 2.302761326545617, R2: 0.44146682156928985\n",
      "RNR - Radius: 20.0, Weights: uniform, Metric: manhattan Finalized - MSE: 15.55308090857193, MAE: 3.2584629087694488, R2: 0.10752647939388538\n",
      "RNR - Radius: 20.0, Weights: uniform, Metric: euclidean Finalized - MSE: 16.890486497863698, MAE: 3.539041262487434, R2: 0.030782901592802947\n",
      "RNR - Radius: 20.0, Weights: distance, Metric: euclidean Finalized - MSE: 10.106782656336135, MAE: 2.404848504188769, R2: 0.42004828803212724\n",
      "RNR - Radius: 20.0, Weights: distance, Metric: manhattan Finalized - MSE: 8.697609373899786, MAE: 2.0526076958784634, R2: 0.5009100702033304\n"
     ]
    }
   ],
   "source": [
    "results = Parallel(n_jobs=4)(\n",
    "    delayed(train_evaluate_radius_neighbors)(radius, weights, metric, X_train, Y_train, X_test, Y_test)\n",
    "    for radius, weights, metric in param_combinations\n",
    ")"
   ]
  },
  {
   "cell_type": "code",
   "execution_count": 38,
   "metadata": {},
   "outputs": [],
   "source": [
    "benchmark_df = pd.DataFrame(results)"
   ]
  },
  {
   "cell_type": "code",
   "execution_count": 39,
   "metadata": {},
   "outputs": [],
   "source": [
    "benchmark_df.to_excel('RadiusRegressorBenchmark.xlsx')"
   ]
  }
 ],
 "metadata": {
  "kernelspec": {
   "display_name": "Python 3",
   "language": "python",
   "name": "python3"
  },
  "language_info": {
   "codemirror_mode": {
    "name": "ipython",
    "version": 3
   },
   "file_extension": ".py",
   "mimetype": "text/x-python",
   "name": "python",
   "nbconvert_exporter": "python",
   "pygments_lexer": "ipython3",
   "version": "3.9.6"
  }
 },
 "nbformat": 4,
 "nbformat_minor": 2
}
