{
 "cells": [
  {
   "cell_type": "code",
   "execution_count": 33,
   "metadata": {},
   "outputs": [],
   "source": [
    "from sklearn.ensemble import AdaBoostRegressor\n",
    "from sklearn.tree import DecisionTreeRegressor\n",
    "from sklearn.metrics import mean_squared_error, mean_absolute_error, r2_score\n",
    "from sklearn.model_selection import train_test_split\n",
    "\n",
    "import pandas as pd\n",
    "import numpy as np\n",
    "from joblib import Parallel, delayed\n",
    "from tqdm import tqdm"
   ]
  },
  {
   "cell_type": "code",
   "execution_count": 34,
   "metadata": {},
   "outputs": [],
   "source": [
    "df = pd.read_parquet('../../../metrics.parquet')"
   ]
  },
  {
   "cell_type": "code",
   "execution_count": 35,
   "metadata": {},
   "outputs": [],
   "source": [
    "df, _ = train_test_split(df, train_size=200000, stratify=df['time_to_stop_activity'], random_state=11)"
   ]
  },
  {
   "cell_type": "code",
   "execution_count": 36,
   "metadata": {},
   "outputs": [],
   "source": [
    "df = df.drop(\n",
    "    columns = [\n",
    "        \"user\", \n",
    "        'project', \n",
    "        'current_month', \n",
    "        'turnover_num',\n",
    "        'turnover',\n",
    "        'betweenness_centrality_12_intercept',\n",
    "        'betweenness_centrality_12_slope', \n",
    "        'betweenness_centrality_12_std_dev',\n",
    "        'betweenness_centrality_3_intercept', \n",
    "        'betweenness_centrality_3_slope',\n",
    "        'betweenness_centrality_3_std_dev',\n",
    "        'betweenness_centrality_6_intercept', \n",
    "        'betweenness_centrality_6_slope',\n",
    "        'betweenness_centrality_6_std_dev',\n",
    "        'betweenness_centrality_9_intercept', \n",
    "        'betweenness_centrality_9_slope',\n",
    "        'betweenness_centrality_9_std_dev'\n",
    "    ], axis = 1\n",
    ")"
   ]
  },
  {
   "cell_type": "code",
   "execution_count": 37,
   "metadata": {},
   "outputs": [],
   "source": [
    "df = df.astype(np.float64)\n",
    "df = df.replace([np.inf], np.nan)\n",
    "\n",
    "for column in df.columns:\n",
    "    max_value = df[column].max(skipna=True) \n",
    "    df[column] = df[column].fillna(max_value)\n",
    "\n",
    "df = df.replace([-np.inf], np.nan)\n",
    "\n",
    "for column in df.columns:\n",
    "    max_value = df[column].min(skipna=True) \n",
    "    df[column] = df[column].fillna(max_value)"
   ]
  },
  {
   "cell_type": "code",
   "execution_count": 38,
   "metadata": {},
   "outputs": [],
   "source": [
    "for column in df.columns:\n",
    "    max_value = df[column].max(skipna=True) \n",
    "    df[column] = df[column].fillna(max_value)"
   ]
  },
  {
   "cell_type": "code",
   "execution_count": 39,
   "metadata": {},
   "outputs": [],
   "source": [
    "def train_evaluate_adaboost(n_estimators, learning_rate, max_depth, X_train, Y_train, X_test, Y_test):\n",
    "    mse = None; mae = None; r2 = None\n",
    "\n",
    "    try:\n",
    "        base_estimator = DecisionTreeRegressor(max_depth=max_depth)\n",
    "        adaboost = AdaBoostRegressor(\n",
    "            estimator=base_estimator,\n",
    "            n_estimators=n_estimators,\n",
    "            learning_rate=learning_rate,\n",
    "            random_state=11\n",
    "        )\n",
    "        \n",
    "        adaboost.fit(X_train, Y_train)\n",
    "        y_pred = adaboost.predict(X_test)\n",
    "\n",
    "        mse = mean_squared_error(Y_test, y_pred)\n",
    "        mae = mean_absolute_error(Y_test, y_pred)\n",
    "        r2 = r2_score(Y_test, y_pred)\n",
    "\n",
    "        print(f'AB - Estimators: {n_estimators}, Learning Rate: {learning_rate}, Max Depth: {max_depth} Finalized - {mse}, {mae}, {r2}')\n",
    "    \n",
    "    except Exception as e:\n",
    "        print(f'AB - Estimators: {n_estimators}, Learning Rate: {learning_rate}, Max Depth: {max_depth} Error: {e}')\n",
    "        \n",
    "    return {\n",
    "        'n_estimators': n_estimators,\n",
    "        'learning_rate': learning_rate,\n",
    "        'max_depth': max_depth, \n",
    "        'mean_squared_error': mse,\n",
    "        'mean_absolute_error': mae,\n",
    "        'r2_score': r2\n",
    "    }"
   ]
  },
  {
   "cell_type": "code",
   "execution_count": 40,
   "metadata": {},
   "outputs": [],
   "source": [
    "param_combinations = [\n",
    "    (n_estimators, learning_rate, max_depth) \n",
    "    for n_estimators in [50, 100, 200]\n",
    "    for learning_rate in [0.01, 0.1, 1.0]\n",
    "    for max_depth in [3, 5, 10]\n",
    "]\n"
   ]
  },
  {
   "cell_type": "code",
   "execution_count": 41,
   "metadata": {},
   "outputs": [],
   "source": [
    "x = df.drop(columns = ['time_to_stop_activity'], axis = 1).values\n",
    "y = df['time_to_stop_activity'].values"
   ]
  },
  {
   "cell_type": "code",
   "execution_count": 42,
   "metadata": {},
   "outputs": [],
   "source": [
    "X_train, X_test, Y_train, Y_test = train_test_split(\n",
    "    x, y, \n",
    "    test_size = 0.3, \n",
    "    random_state=11\n",
    ")"
   ]
  },
  {
   "cell_type": "code",
   "execution_count": 43,
   "metadata": {},
   "outputs": [
    {
     "name": "stdout",
     "output_type": "stream",
     "text": [
      "AB - Estimators: 100, Learning Rate: 1.0, Max Depth: 3 Finalized - 7.981074181366234, 1.972236686274031, 0.5398922850129593\n",
      "AB - Estimators: 50, Learning Rate: 1.0, Max Depth: 3 Finalized - 7.981074181366234, 1.972236686274031, 0.5398922850129593\n",
      "AB - Estimators: 50, Learning Rate: 1.0, Max Depth: 5 Finalized - 7.400968229962559, 1.8444632868849884, 0.5733353050482695\n",
      "AB - Estimators: 100, Learning Rate: 1.0, Max Depth: 5 Finalized - 7.400968229962559, 1.8444632868849884, 0.5733353050482695\n",
      "AB - Estimators: 50, Learning Rate: 0.01, Max Depth: 3 Finalized - 7.013364219528288, 1.5638581051755807, 0.5956806174094931\n"
     ]
    },
    {
     "name": "stderr",
     "output_type": "stream",
     "text": [
      "/Users/pro32/Library/Python/3.9/lib/python/site-packages/joblib/externals/loky/process_executor.py:752: UserWarning: A worker stopped while some jobs were given to the executor. This can be caused by a too short worker timeout or by a memory leak.\n",
      "  warnings.warn(\n"
     ]
    },
    {
     "name": "stdout",
     "output_type": "stream",
     "text": [
      "AB - Estimators: 50, Learning Rate: 0.1, Max Depth: 3 Finalized - 7.698710535312938, 1.8992394530514154, 0.5561705063436564\n",
      "AB - Estimators: 100, Learning Rate: 0.1, Max Depth: 3 Finalized - 7.698710535312938, 1.8992394530514154, 0.5561705063436564\n",
      "AB - Estimators: 50, Learning Rate: 0.01, Max Depth: 5 Finalized - 6.279452729270897, 1.3245869056393262, 0.6379905034112363\n",
      "AB - Estimators: 50, Learning Rate: 0.1, Max Depth: 5 Finalized - 7.006122072576565, 1.757497274592305, 0.5960981260818642\n",
      "AB - Estimators: 200, Learning Rate: 1.0, Max Depth: 3 Finalized - 7.981074181366234, 1.972236686274031, 0.5398922850129593\n",
      "AB - Estimators: 200, Learning Rate: 0.1, Max Depth: 3 Finalized - 7.698710535312938, 1.8992394530514154, 0.5561705063436564\n",
      "AB - Estimators: 200, Learning Rate: 1.0, Max Depth: 5 Finalized - 7.400968229962559, 1.8444632868849884, 0.5733353050482695\n",
      "AB - Estimators: 100, Learning Rate: 0.01, Max Depth: 3 Finalized - 7.0439716212250625, 1.6150139694640828, 0.5939161053480374\n",
      "AB - Estimators: 100, Learning Rate: 0.1, Max Depth: 5 Finalized - 7.352700459995008, 1.8994507079387097, 0.5761179346595993\n",
      "AB - Estimators: 50, Learning Rate: 0.01, Max Depth: 10 Finalized - 5.79963996806512, 1.134591513885707, 0.6656516362566676\n",
      "AB - Estimators: 50, Learning Rate: 0.1, Max Depth: 10 Finalized - 6.3421367100941755, 1.5900451276972623, 0.6343767814325298\n",
      "AB - Estimators: 50, Learning Rate: 1.0, Max Depth: 10 Finalized - 13.212132831759995, 3.0550708273886804, 0.2383225479197686\n",
      "AB - Estimators: 100, Learning Rate: 0.01, Max Depth: 5 Finalized - 6.317742167086622, 1.3942449723272317, 0.6357831231336963\n",
      "AB - Estimators: 200, Learning Rate: 0.1, Max Depth: 5 Finalized - 7.352700459995008, 1.8994507079387097, 0.5761179346595993\n",
      "AB - Estimators: 200, Learning Rate: 0.01, Max Depth: 3 Finalized - 7.341966307854524, 1.7546519491279609, 0.5767367569009979\n",
      "AB - Estimators: 100, Learning Rate: 0.01, Max Depth: 10 Finalized - 5.788150109425231, 1.2035873588826078, 0.6663140248630367\n",
      "AB - Estimators: 100, Learning Rate: 0.1, Max Depth: 10 Finalized - 7.279314774853782, 1.9066639389153173, 0.5803486082676609\n",
      "AB - Estimators: 100, Learning Rate: 1.0, Max Depth: 10 Finalized - 14.61025423061894, 3.2513308927848166, 0.15772106151767706\n",
      "AB - Estimators: 200, Learning Rate: 0.01, Max Depth: 5 Finalized - 6.472068797926964, 1.5100285146978536, 0.6268862162933388\n",
      "AB - Estimators: 200, Learning Rate: 0.01, Max Depth: 10 Finalized - 5.864445022814304, 1.3262964712449987, 0.6619156346881228\n",
      "AB - Estimators: 200, Learning Rate: 0.1, Max Depth: 10 Finalized - 9.161680945837585, 2.357774849442335, 0.47183048426345553\n",
      "AB - Estimators: 200, Learning Rate: 1.0, Max Depth: 10 Finalized - 15.16789104676266, 3.302614208486421, 0.12557338371917115\n"
     ]
    }
   ],
   "source": [
    "benchmark = Parallel(n_jobs=-1)(\n",
    "    delayed(train_evaluate_adaboost)(n_estimators, lr, depth, X_train, Y_train, X_test, Y_test)\n",
    "    for n_estimators, lr, depth in param_combinations\n",
    ")"
   ]
  },
  {
   "cell_type": "code",
   "execution_count": 44,
   "metadata": {},
   "outputs": [],
   "source": [
    "benchmark_df = pd.DataFrame(benchmark)"
   ]
  },
  {
   "cell_type": "code",
   "execution_count": 45,
   "metadata": {},
   "outputs": [],
   "source": [
    "benchmark_df.to_excel('AdaBoostRegressorBenchmark.xlsx')"
   ]
  }
 ],
 "metadata": {
  "kernelspec": {
   "display_name": "Python 3",
   "language": "python",
   "name": "python3"
  },
  "language_info": {
   "codemirror_mode": {
    "name": "ipython",
    "version": 3
   },
   "file_extension": ".py",
   "mimetype": "text/x-python",
   "name": "python",
   "nbconvert_exporter": "python",
   "pygments_lexer": "ipython3",
   "version": "3.9.6"
  }
 },
 "nbformat": 4,
 "nbformat_minor": 2
}
